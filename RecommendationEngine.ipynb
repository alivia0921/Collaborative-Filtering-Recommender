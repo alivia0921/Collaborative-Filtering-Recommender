{
  "cells": [
    {
      "cell_type": "markdown",
      "metadata": {
        "id": "dxNjJHniuEG7"
      },
      "source": [
        "\n"
      ]
    },
    {
      "cell_type": "markdown",
      "metadata": {
        "id": "r0p-HAh1obaq"
      },
      "source": [
        "initiate data\n",
        "---------------------------------------------"
      ]
    },
    {
      "cell_type": "code",
      "execution_count": null,
      "metadata": {
        "colab": {
          "base_uri": "https://localhost:8080/"
        },
        "id": "YhuDztbD-fNy",
        "outputId": "06d56e2d-7d34-4937-bc08-46f82f077d00"
      },
      "outputs": [
        {
          "name": "stdout",
          "output_type": "stream",
          "text": [
            "(6259709, 3)\n",
            "     user_id  anime_id  rating\n",
            "156        3        20       8\n",
            "157        3       154       6\n",
            "158        3       170       9\n",
            "159        3       199      10\n",
            "160        3       225       9\n",
            "161        3       341       6\n",
            "162        3       430       7\n",
            "163        3       527       7\n",
            "164        3       552       7\n",
            "165        3       813      10\n"
          ]
        }
      ],
      "source": [
        "import pandas as pd\n",
        "import numpy as np\n",
        "\n",
        "data = pd.read_csv('rating.csv')\n",
        "\n",
        "#https://hackersandslackers.com/pandas-dataframe-drop/\n",
        "\n",
        "# print(data.shape)   #(7813737, 3)\n",
        "# print(data.head(10))\n",
        "\n",
        "# drop empty rows\n",
        "data.dropna(\n",
        "  axis=0,\n",
        "  how='any',\n",
        "  thresh=None,\n",
        "  subset=None,\n",
        "  inplace=True\n",
        ")\n",
        "# print(data.shape)      #(7813737, 3)\n",
        "# print(data.head(10))\n",
        "\n",
        "\n",
        "\n",
        "#drop duplicates\n",
        "# print(data.duplicated().sum())     ** 1 duplicate removed\n",
        "data = data.drop_duplicates()\n",
        "# print(data.shape)               #(7813736, 3)\n",
        "# print(data.head(10))\n",
        "\n",
        "\n",
        "\n",
        "#drop rows without ratings\n",
        "data = data[data.rating != -1]\n",
        "# print(data.shape)           #(6337240, 3)\n",
        "# print(data.head(10))\n",
        "# print(7813736 - 6337240) #1476496 -1 removed\n",
        "\n",
        "\n",
        "\n",
        "#drop users who have watch fewer than 10 movies (better to have more ratings per user for collaborative)\n",
        "#drop movies watched by fewer than 10 users\n",
        "animeIdSeries = data['anime_id'].value_counts()\n",
        "userIdSeries = data['user_id'].value_counts()\n",
        "\n",
        "# Remove inactive animies\n",
        "data = data[data['anime_id'].isin(animeIdSeries[animeIdSeries > 10].index)]\n",
        "# print(data.shape)\n",
        "# print(data.head(10))\n",
        "# print(6337240 - 6327710) #9530 inactive animies removed\n",
        "\n",
        "# Remove inactive Users\n",
        "data = data[data['user_id'].isin(userIdSeries[userIdSeries > 10].index)]\n",
        "# print(data.shape)\n",
        "# print(data.head(10))\n",
        "# print(6327710 - 6259709)  #68001 inactive users removed\n",
        "\n",
        "\n",
        "\n",
        "userID = data['user_id'].tolist()\n",
        "animeID = data['anime_id'].tolist()\n",
        "rate = data['rating'].tolist()\n",
        "\n",
        "# data.to_csv(\"rating.csv\", index=False)\n",
        "print(data.shape)   #(6259709, 3)\n",
        "print(data.head(10))\n"
      ]
    },
    {
      "cell_type": "code",
      "execution_count": null,
      "metadata": {
        "colab": {
          "base_uri": "https://localhost:8080/"
        },
        "id": "-rC1WxzrijUM",
        "outputId": "7822a6cc-3011-42ce-d2ca-f0547a4a2eee"
      },
      "outputs": [
        {
          "name": "stdout",
          "output_type": "stream",
          "text": [
            "1817311\n",
            "2878778\n",
            "(1563620, 3)\n",
            "     user_id  anime_id  rating\n",
            "302        5         6       8\n",
            "303        5        15       6\n",
            "306        5        20       6\n",
            "307        5        22       5\n",
            "308        5        24       1\n",
            "309        5        30       1\n",
            "310        5        45       7\n",
            "311        5        47       8\n",
            "312        5        57       7\n",
            "313        5        63       1\n"
          ]
        }
      ],
      "source": [
        "#small datasets\n",
        "# print(data.shape)\n",
        "\n",
        "# Remove inactive animies\n",
        "data = data[data['anime_id'].isin(animeIdSeries[animeIdSeries > 1800].index)]\n",
        "# print(data.shape)\n",
        "# print(data.head(10))\n",
        "print(6259709-4442398) #1894842 inactive animies removed\n",
        "\n",
        "# Remove inactive Users\n",
        "data = data[data['user_id'].isin(userIdSeries[userIdSeries > 250].index)]\n",
        "# print(data.shape)\n",
        "# print(data.head(10))\n",
        "print(4442398-1563620)  #68001 inactive users removed\n",
        "\n",
        "\n",
        "\n",
        "userID = data['user_id'].tolist()\n",
        "animeID = data['anime_id'].tolist()\n",
        "rate = data['rating'].tolist()\n",
        "\n",
        "# data.to_csv(\"rating.csv\", index=False)\n",
        "print(data.shape)   #(6259709, 3)\n",
        "print(data.head(10))"
      ]
    },
    {
      "cell_type": "markdown",
      "metadata": {
        "id": "UKBSt4zQoP_F"
      },
      "source": [
        "Other recommendation engine 2: analyze anime.csv\n",
        "-----------------------------------------------------------------------------------"
      ]
    },
    {
      "cell_type": "code",
      "execution_count": null,
      "metadata": {
        "colab": {
          "base_uri": "https://localhost:8080/",
          "height": 611
        },
        "id": "4xVfjxSrz7Ny",
        "outputId": "3bd670cd-ce31-4978-b851-25202954547b"
      },
      "outputs": [
        {
          "data": {
            "image/png": "[encoded data removed]",
            "text/plain": [
              "<Figure size 720x720 with 1 Axes>"
            ]
          },
          "metadata": {
            "tags": []
          },
          "output_type": "display_data"
        }
      ],
      "source": [
        "import matplotlib.pyplot as plt\n",
        "import seaborn as sns\n",
        "\n",
        "animeData = pd.read_csv('anime.csv')\n",
        "top_anime = animeData[animeData['members'] > 50000]\n",
        "top_anime = top_anime.sort_values(by='rating', ascending=False).head(20)\n",
        "# print(top_anime.head(10))\n",
        "\n",
        "sns.set(style=\"darkgrid\")\n",
        "plt.figure(figsize=(10, 10))\n",
        "\n",
        "color = sns.color_palette(\"Set2\")\n",
        "ax = sns.barplot(x=\"rating\", y=\"name\", data=top_anime, palette=color)\n",
        "\n",
        "for i in ax.patches:\n",
        "    ax.text(i.get_width() + .05, i.get_y() + 0.5, str(i.get_width()), fontsize = 10, color = 'k')\n",
        "plt.show()\n"
      ]
    },
    {
      "cell_type": "code",
      "execution_count": null,
      "metadata": {
        "colab": {
          "base_uri": "https://localhost:8080/",
          "height": 611
        },
        "id": "MHkMU_NP07Ev",
        "outputId": "8834b7ee-e57e-46d9-9494-a9c76fb92201"
      },
      "outputs": [
        {
          "data": {
            "image/png": "[encoded data removed]",
            "text/plain": [
              "<Figure size 720x720 with 1 Axes>"
            ]
          },
          "metadata": {
            "tags": []
          },
          "output_type": "display_data"
        }
      ],
      "source": [
        "top_vote = animeData.sort_values(by='members', ascending=False).head(20)\n",
        "# print(top_vote.head(10))\n",
        "\n",
        "sns.set(style=\"darkgrid\")\n",
        "plt.figure(figsize=(10, 10))\n",
        "\n",
        "color = sns.color_palette(\"Set2\")\n",
        "ax = sns.barplot(x=\"members\", y=\"name\", data=top_vote, pa   lette=color)\n",
        "\n",
        "for i in ax.patches:\n",
        "    ax.text(i.get_width() + .05, i.get_y() + 0.5, str(i.get_width()), fontsize = 10, color = 'k')\n",
        "plt.show()"
      ]
    },
    {
      "cell_type": "code",
      "execution_count": null,
      "metadata": {
        "colab": {
          "base_uri": "https://localhost:8080/",
          "height": 548
        },
        "id": "NIQMUPWL-NRv",
        "outputId": "4c60bd58-83df-4b70-a13a-be25569a40e3"
      },
      "outputs": [
        {
          "data": {
            "text/plain": [
              "<seaborn.axisgrid.FacetGrid at 0x7f65bbab1490>"
            ]
          },
          "execution_count": 22,
          "metadata": {
            "tags": []
          },
          "output_type": "execute_result"
        },
        {
          "data": {
            "image/png": "[encoded data removed]",
            "text/plain": [
              "<Figure size 504x504 with 1 Axes>"
            ]
          },
          "metadata": {
            "tags": []
          },
          "output_type": "display_data"
        }
      ],
      "source": [
        "ax = sns.relplot(data=animeData, x=\"rating\", y=\"members\", kind = \"scatter\", color = '#95a3c3', sizes=(100, 200), height=7, marker='o')\n",
        "\n",
        "ax.set(xlabel='Rating Received in a Scale of 10',\n",
        "       ylabel='Num of Ratings Received (scale of 202783)',\n",
        "       title='Relationship Between Ratings and Number of Ratings Received')"
      ]
    },
    {
      "cell_type": "markdown",
      "metadata": {
        "id": "KsSeHPO69kXp"
      },
      "source": [
        "indicating that there are no strong relationships between the rating a book receives and meta-variables (like rating counts etc.). This means that the rating depends more strongly on other features (e.g. the quality of the books itself).\n",
        "\n",
        "no correlation between rating and members"
      ]
    },
    {
      "cell_type": "code",
      "execution_count": null,
      "metadata": {
        "colab": {
          "base_uri": "https://localhost:8080/",
          "height": 381
        },
        "id": "3nVnsRWucWIS",
        "outputId": "4b42ff7d-4a72-4b7b-9acb-efc3ab101815"
      },
      "outputs": [
        {
          "data": {
            "text/plain": [
              "<seaborn.axisgrid.FacetGrid at 0x7f75a2aa2590>"
            ]
          },
          "execution_count": 17,
          "metadata": {
            "tags": []
          },
          "output_type": "execute_result"
        },
        {
          "data": {
            "image/png": "[encoded data removed]",
            "text/plain": [
              "<Figure size 360x360 with 1 Axes>"
            ]
          },
          "metadata": {
            "tags": []
          },
          "output_type": "display_data"
        }
      ],
      "source": [
        "sns.displot(data, x=\"rating\", bins=10)"
      ]
    },
    {
      "cell_type": "markdown",
      "metadata": {
        "id": "goiFxKkUi3ch"
      },
      "source": [
        "Other recommendation engine 4:\n",
        "---------------------------------------------------\n",
        "Pivot table, collaborative filtering, the same dataset\n"
      ]
    },
    {
      "cell_type": "code",
      "execution_count": null,
      "metadata": {
        "id": "EIKE8TudjDDr"
      },
      "outputs": [],
      "source": [
        "import pandas as pd\n",
        "import numpy as np\n",
        "import scipy as sp\n",
        "from sklearn.metrics.pairwise import cosine_similarity\n",
        "import operator\n",
        "%matplotlib inline"
      ]
    },
    {
      "cell_type": "code",
      "execution_count": null,
      "metadata": {
        "id": "rdfKD9lJjJjk"
      },
      "outputs": [],
      "source": [
        "anime = pd.read_csv('anime.csv')\n",
        "rating = pd.read_csv('rating.csv')"
      ]
    },
    {
      "cell_type": "code",
      "execution_count": null,
      "metadata": {
        "colab": {
          "base_uri": "https://localhost:8080/",
          "height": 200
        },
        "id": "HdHcvSGFk1Oj",
        "outputId": "77e62af0-df14-4725-d693-509348f8300a"
      },
      "outputs": [
        {
          "data": {
            "text/html": [
              "<div>\n",
              "<style scoped>\n",
              "    .dataframe tbody tr th:only-of-type {\n",
              "        vertical-align: middle;\n",
              "    }\n",
              "\n",
              "    .dataframe tbody tr th {\n",
              "        vertical-align: top;\n",
              "    }\n",
              "\n",
              "    .dataframe thead th {\n",
              "        text-align: right;\n",
              "    }\n",
              "</style>\n",
              "<table border=\"1\" class=\"dataframe\">\n",
              "  <thead>\n",
              "    <tr style=\"text-align: right;\">\n",
              "      <th></th>\n",
              "      <th>user_id</th>\n",
              "      <th>anime_id</th>\n",
              "      <th>rating</th>\n",
              "    </tr>\n",
              "  </thead>\n",
              "  <tbody>\n",
              "    <tr>\n",
              "      <th>0</th>\n",
              "      <td>1</td>\n",
              "      <td>20</td>\n",
              "      <td>-1</td>\n",
              "    </tr>\n",
              "    <tr>\n",
              "      <th>1</th>\n",
              "      <td>1</td>\n",
              "      <td>24</td>\n",
              "      <td>-1</td>\n",
              "    </tr>\n",
              "    <tr>\n",
              "      <th>2</th>\n",
              "      <td>1</td>\n",
              "      <td>79</td>\n",
              "      <td>-1</td>\n",
              "    </tr>\n",
              "    <tr>\n",
              "      <th>3</th>\n",
              "      <td>1</td>\n",
              "      <td>226</td>\n",
              "      <td>-1</td>\n",
              "    </tr>\n",
              "    <tr>\n",
              "      <th>4</th>\n",
              "      <td>1</td>\n",
              "      <td>241</td>\n",
              "      <td>-1</td>\n",
              "    </tr>\n",
              "  </tbody>\n",
              "</table>\n",
              "</div>"
            ],
            "text/plain": [
              "   user_id  anime_id  rating\n",
              "0        1        20      -1\n",
              "1        1        24      -1\n",
              "2        1        79      -1\n",
              "3        1       226      -1\n",
              "4        1       241      -1"
            ]
          },
          "execution_count": 4,
          "metadata": {
            "tags": []
          },
          "output_type": "execute_result"
        }
      ],
      "source": [
        "\n",
        "#Before alteration the ratings dataset uses a \"-1\" to represent missing ratings. I'm replacing these placeholders with a null value because I will later be calculating the average rating per user and don't want the average to be distorted\n",
        "\n",
        "rating.rating.replace({-1: np.nan}, regex=True, inplace = True)\n",
        "rating.head()"
      ]
    },
    {
      "cell_type": "code",
      "execution_count": null,
      "metadata": {
        "colab": {
          "base_uri": "https://localhost:8080/",
          "height": 200
        },
        "id": "8Cv6gaqPlHIG",
        "outputId": "c44dd0ff-6d77-4b3c-a09f-8de5d3aebf90"
      },
      "outputs": [
        {
          "data": {
            "text/html": [
              "<div>\n",
              "<style scoped>\n",
              "    .dataframe tbody tr th:only-of-type {\n",
              "        vertical-align: middle;\n",
              "    }\n",
              "\n",
              "    .dataframe tbody tr th {\n",
              "        vertical-align: top;\n",
              "    }\n",
              "\n",
              "    .dataframe thead th {\n",
              "        text-align: right;\n",
              "    }\n",
              "</style>\n",
              "<table border=\"1\" class=\"dataframe\">\n",
              "  <thead>\n",
              "    <tr style=\"text-align: right;\">\n",
              "      <th></th>\n",
              "      <th>anime_id</th>\n",
              "      <th>name</th>\n",
              "      <th>genre</th>\n",
              "      <th>type</th>\n",
              "      <th>episodes</th>\n",
              "      <th>rating</th>\n",
              "      <th>members</th>\n",
              "    </tr>\n",
              "  </thead>\n",
              "  <tbody>\n",
              "    <tr>\n",
              "      <th>1</th>\n",
              "      <td>5114</td>\n",
              "      <td>Fullmetal Alchemist: Brotherhood</td>\n",
              "      <td>Action, Adventure, Drama, Fantasy, Magic, Mili...</td>\n",
              "      <td>TV</td>\n",
              "      <td>64</td>\n",
              "      <td>9.26</td>\n",
              "      <td>793665</td>\n",
              "    </tr>\n",
              "    <tr>\n",
              "      <th>2</th>\n",
              "      <td>28977</td>\n",
              "      <td>Gintama°</td>\n",
              "      <td>Action, Comedy, Historical, Parody, Samurai, S...</td>\n",
              "      <td>TV</td>\n",
              "      <td>51</td>\n",
              "      <td>9.25</td>\n",
              "      <td>114262</td>\n",
              "    </tr>\n",
              "    <tr>\n",
              "      <th>3</th>\n",
              "      <td>9253</td>\n",
              "      <td>Steins;Gate</td>\n",
              "      <td>Sci-Fi, Thriller</td>\n",
              "      <td>TV</td>\n",
              "      <td>24</td>\n",
              "      <td>9.17</td>\n",
              "      <td>673572</td>\n",
              "    </tr>\n",
              "    <tr>\n",
              "      <th>4</th>\n",
              "      <td>9969</td>\n",
              "      <td>Gintama&amp;#039;</td>\n",
              "      <td>Action, Comedy, Historical, Parody, Samurai, S...</td>\n",
              "      <td>TV</td>\n",
              "      <td>51</td>\n",
              "      <td>9.16</td>\n",
              "      <td>151266</td>\n",
              "    </tr>\n",
              "    <tr>\n",
              "      <th>5</th>\n",
              "      <td>32935</td>\n",
              "      <td>Haikyuu!!: Karasuno Koukou VS Shiratorizawa Ga...</td>\n",
              "      <td>Comedy, Drama, School, Shounen, Sports</td>\n",
              "      <td>TV</td>\n",
              "      <td>10</td>\n",
              "      <td>9.15</td>\n",
              "      <td>93351</td>\n",
              "    </tr>\n",
              "  </tbody>\n",
              "</table>\n",
              "</div>"
            ],
            "text/plain": [
              "   anime_id                                               name  ... rating members\n",
              "1      5114                   Fullmetal Alchemist: Brotherhood  ...   9.26  793665\n",
              "2     28977                                           Gintama°  ...   9.25  114262\n",
              "3      9253                                        Steins;Gate  ...   9.17  673572\n",
              "4      9969                                      Gintama&#039;  ...   9.16  151266\n",
              "5     32935  Haikyuu!!: Karasuno Koukou VS Shiratorizawa Ga...  ...   9.15   93351\n",
              "\n",
              "[5 rows x 7 columns]"
            ]
          },
          "execution_count": 5,
          "metadata": {
            "tags": []
          },
          "output_type": "execute_result"
        }
      ],
      "source": [
        "# finding recommendations for only the TV category\n",
        "\n",
        "anime_tv = anime[anime['type']=='TV']\n",
        "anime_tv.head()"
      ]
    },
    {
      "cell_type": "code",
      "execution_count": null,
      "metadata": {
        "colab": {
          "base_uri": "https://localhost:8080/",
          "height": 200
        },
        "id": "5RmUJ7qAlKZq",
        "outputId": "a3ac2f1a-3260-4fb5-d4ba-ee83cee5f2e3"
      },
      "outputs": [
        {
          "data": {
            "text/html": [
              "<div>\n",
              "<style scoped>\n",
              "    .dataframe tbody tr th:only-of-type {\n",
              "        vertical-align: middle;\n",
              "    }\n",
              "\n",
              "    .dataframe tbody tr th {\n",
              "        vertical-align: top;\n",
              "    }\n",
              "\n",
              "    .dataframe thead th {\n",
              "        text-align: right;\n",
              "    }\n",
              "</style>\n",
              "<table border=\"1\" class=\"dataframe\">\n",
              "  <thead>\n",
              "    <tr style=\"text-align: right;\">\n",
              "      <th></th>\n",
              "      <th>user_id</th>\n",
              "      <th>anime_id</th>\n",
              "      <th>user_rating</th>\n",
              "      <th>name</th>\n",
              "      <th>genre</th>\n",
              "      <th>type</th>\n",
              "      <th>episodes</th>\n",
              "      <th>rating</th>\n",
              "      <th>members</th>\n",
              "    </tr>\n",
              "  </thead>\n",
              "  <tbody>\n",
              "    <tr>\n",
              "      <th>0</th>\n",
              "      <td>1</td>\n",
              "      <td>20</td>\n",
              "      <td>-1</td>\n",
              "      <td>Naruto</td>\n",
              "      <td>Action, Comedy, Martial Arts, Shounen, Super P...</td>\n",
              "      <td>TV</td>\n",
              "      <td>220</td>\n",
              "      <td>7.81</td>\n",
              "      <td>683297</td>\n",
              "    </tr>\n",
              "    <tr>\n",
              "      <th>1</th>\n",
              "      <td>3</td>\n",
              "      <td>20</td>\n",
              "      <td>8</td>\n",
              "      <td>Naruto</td>\n",
              "      <td>Action, Comedy, Martial Arts, Shounen, Super P...</td>\n",
              "      <td>TV</td>\n",
              "      <td>220</td>\n",
              "      <td>7.81</td>\n",
              "      <td>683297</td>\n",
              "    </tr>\n",
              "    <tr>\n",
              "      <th>2</th>\n",
              "      <td>5</td>\n",
              "      <td>20</td>\n",
              "      <td>6</td>\n",
              "      <td>Naruto</td>\n",
              "      <td>Action, Comedy, Martial Arts, Shounen, Super P...</td>\n",
              "      <td>TV</td>\n",
              "      <td>220</td>\n",
              "      <td>7.81</td>\n",
              "      <td>683297</td>\n",
              "    </tr>\n",
              "    <tr>\n",
              "      <th>3</th>\n",
              "      <td>6</td>\n",
              "      <td>20</td>\n",
              "      <td>-1</td>\n",
              "      <td>Naruto</td>\n",
              "      <td>Action, Comedy, Martial Arts, Shounen, Super P...</td>\n",
              "      <td>TV</td>\n",
              "      <td>220</td>\n",
              "      <td>7.81</td>\n",
              "      <td>683297</td>\n",
              "    </tr>\n",
              "    <tr>\n",
              "      <th>4</th>\n",
              "      <td>10</td>\n",
              "      <td>20</td>\n",
              "      <td>-1</td>\n",
              "      <td>Naruto</td>\n",
              "      <td>Action, Comedy, Martial Arts, Shounen, Super P...</td>\n",
              "      <td>TV</td>\n",
              "      <td>220</td>\n",
              "      <td>7.81</td>\n",
              "      <td>683297</td>\n",
              "    </tr>\n",
              "  </tbody>\n",
              "</table>\n",
              "</div>"
            ],
            "text/plain": [
              "   user_id  anime_id  user_rating    name  ... type episodes rating  members\n",
              "0        1        20           -1  Naruto  ...   TV      220   7.81   683297\n",
              "1        3        20            8  Naruto  ...   TV      220   7.81   683297\n",
              "2        5        20            6  Naruto  ...   TV      220   7.81   683297\n",
              "3        6        20           -1  Naruto  ...   TV      220   7.81   683297\n",
              "4       10        20           -1  Naruto  ...   TV      220   7.81   683297\n",
              "\n",
              "[5 rows x 9 columns]"
            ]
          },
          "execution_count": 7,
          "metadata": {
            "tags": []
          },
          "output_type": "execute_result"
        }
      ],
      "source": [
        "# Join the two dataframes on the anime_id columns\n",
        "\n",
        "merged = rating.merge(anime_tv, left_on = 'anime_id', right_on = 'anime_id', suffixes= ['_user', ''])\n",
        "merged.rename(columns = {'rating_user':'user_rating'}, inplace = True)\n",
        "merged.head()"
      ]
    },
    {
      "cell_type": "code",
      "execution_count": null,
      "metadata": {
        "colab": {
          "base_uri": "https://localhost:8080/",
          "height": 200
        },
        "id": "bEoQyFk3mHED",
        "outputId": "4173be0a-b842-4b3b-ce5a-3829e5a2f465"
      },
      "outputs": [
        {
          "data": {
            "text/html": [
              "<div>\n",
              "<style scoped>\n",
              "    .dataframe tbody tr th:only-of-type {\n",
              "        vertical-align: middle;\n",
              "    }\n",
              "\n",
              "    .dataframe tbody tr th {\n",
              "        vertical-align: top;\n",
              "    }\n",
              "\n",
              "    .dataframe thead th {\n",
              "        text-align: right;\n",
              "    }\n",
              "</style>\n",
              "<table border=\"1\" class=\"dataframe\">\n",
              "  <thead>\n",
              "    <tr style=\"text-align: right;\">\n",
              "      <th></th>\n",
              "      <th>user_id</th>\n",
              "      <th>name</th>\n",
              "      <th>user_rating</th>\n",
              "    </tr>\n",
              "  </thead>\n",
              "  <tbody>\n",
              "    <tr>\n",
              "      <th>0</th>\n",
              "      <td>1</td>\n",
              "      <td>Naruto</td>\n",
              "      <td>-1</td>\n",
              "    </tr>\n",
              "    <tr>\n",
              "      <th>1</th>\n",
              "      <td>3</td>\n",
              "      <td>Naruto</td>\n",
              "      <td>8</td>\n",
              "    </tr>\n",
              "    <tr>\n",
              "      <th>2</th>\n",
              "      <td>5</td>\n",
              "      <td>Naruto</td>\n",
              "      <td>6</td>\n",
              "    </tr>\n",
              "    <tr>\n",
              "      <th>3</th>\n",
              "      <td>6</td>\n",
              "      <td>Naruto</td>\n",
              "      <td>-1</td>\n",
              "    </tr>\n",
              "    <tr>\n",
              "      <th>4</th>\n",
              "      <td>10</td>\n",
              "      <td>Naruto</td>\n",
              "      <td>-1</td>\n",
              "    </tr>\n",
              "  </tbody>\n",
              "</table>\n",
              "</div>"
            ],
            "text/plain": [
              "   user_id    name  user_rating\n",
              "0        1  Naruto           -1\n",
              "1        3  Naruto            8\n",
              "2        5  Naruto            6\n",
              "3        6  Naruto           -1\n",
              "4       10  Naruto           -1"
            ]
          },
          "execution_count": 8,
          "metadata": {
            "tags": []
          },
          "output_type": "execute_result"
        }
      ],
      "source": [
        "# For computing reasons I'm limiting the dataframe length to 10,000 users\n",
        "\n",
        "merged=merged[['user_id', 'name', 'user_rating']]\n",
        "merged_sub= merged[merged.user_id <= 10000]\n",
        "merged_sub.head()"
      ]
    },
    {
      "cell_type": "code",
      "execution_count": null,
      "metadata": {
        "colab": {
          "base_uri": "https://localhost:8080/",
          "height": 392
        },
        "id": "7CGgujvtmcof",
        "outputId": "d1482103-b9c8-4f5a-ff37-09aece3cd7c8"
      },
      "outputs": [
        {
          "name": "stdout",
          "output_type": "stream",
          "text": [
            "(9936, 2804)\n"
          ]
        },
        {
          "data": {
            "text/html": [
              "<div>\n",
              "<style scoped>\n",
              "    .dataframe tbody tr th:only-of-type {\n",
              "        vertical-align: middle;\n",
              "    }\n",
              "\n",
              "    .dataframe tbody tr th {\n",
              "        vertical-align: top;\n",
              "    }\n",
              "\n",
              "    .dataframe thead th {\n",
              "        text-align: right;\n",
              "    }\n",
              "</style>\n",
              "<table border=\"1\" class=\"dataframe\">\n",
              "  <thead>\n",
              "    <tr style=\"text-align: right;\">\n",
              "      <th>name</th>\n",
              "      <th>.hack//Roots</th>\n",
              "      <th>.hack//Sign</th>\n",
              "      <th>.hack//Tasogare no Udewa Densetsu</th>\n",
              "      <th>009-1</th>\n",
              "      <th>07-Ghost</th>\n",
              "      <th>11eyes</th>\n",
              "      <th>12-sai.: Chicchana Mune no Tokimeki</th>\n",
              "      <th>3 Choume no Tama: Uchi no Tama Shirimasenka?</th>\n",
              "      <th>30-sai no Hoken Taiiku</th>\n",
              "      <th>91 Days</th>\n",
              "      <th>A-Channel</th>\n",
              "      <th>A.D. Police (TV)</th>\n",
              "      <th>AKB0048</th>\n",
              "      <th>AKB0048: Next Stage</th>\n",
              "      <th>Aa Harimanada</th>\n",
              "      <th>Aa! Megami-sama! (TV)</th>\n",
              "      <th>Aa! Megami-sama!: Chichaitte Koto wa Benri da ne</th>\n",
              "      <th>Aa! Megami-sama!: Sorezore no Tsubasa</th>\n",
              "      <th>Abarenbou Rikishi!! Matsutarou</th>\n",
              "      <th>Abenobashi Mahou☆Shoutengai</th>\n",
              "      <th>Absolute Duo</th>\n",
              "      <th>Accel World</th>\n",
              "      <th>Acchi Kocchi (TV)</th>\n",
              "      <th>Ace wo Nerae!</th>\n",
              "      <th>Active Raid: Kidou Kyoushuushitsu Dai Hachi Gakari</th>\n",
              "      <th>Active Raid: Kidou Kyoushuushitsu Dai Hachi Gakari 2nd</th>\n",
              "      <th>Afro Samurai</th>\n",
              "      <th>After War Gundam X</th>\n",
              "      <th>Agatha Christie no Meitantei Poirot to Marple</th>\n",
              "      <th>Ai Shoujo Pollyanna Story</th>\n",
              "      <th>Ai Tenchi Muyou!</th>\n",
              "      <th>Ai Tenshi Densetsu Wedding Peach</th>\n",
              "      <th>Ai Yori Aoshi</th>\n",
              "      <th>Ai Yori Aoshi: Enishi</th>\n",
              "      <th>Ai no Gakko Cuore Monogatari</th>\n",
              "      <th>Ai no Wakakusa Monogatari</th>\n",
              "      <th>Ai to Yuuki no Pig Girl Tonde Buurin</th>\n",
              "      <th>Aikatsu!</th>\n",
              "      <th>Air</th>\n",
              "      <th>Air Gear</th>\n",
              "      <th>...</th>\n",
              "      <th>Yu☆Gi☆Oh! 5D&amp;#039;s</th>\n",
              "      <th>Yu☆Gi☆Oh! Duel Monsters</th>\n",
              "      <th>Yu☆Gi☆Oh! Zexal</th>\n",
              "      <th>Yu☆Gi☆Oh! Zexal Second</th>\n",
              "      <th>Yu☆Gi☆Oh!: Duel Monsters GX</th>\n",
              "      <th>Z/X: Ignition</th>\n",
              "      <th>Zan Sayonara Zetsubou Sensei</th>\n",
              "      <th>Zankyou no Terror</th>\n",
              "      <th>Zegapain</th>\n",
              "      <th>Zenryoku Usagi</th>\n",
              "      <th>Zero Duel Masters</th>\n",
              "      <th>Zero no Tsukaima</th>\n",
              "      <th>Zero no Tsukaima F</th>\n",
              "      <th>Zero no Tsukaima: Futatsuki no Kishi</th>\n",
              "      <th>Zero no Tsukaima: Princesses no Rondo</th>\n",
              "      <th>Zetman</th>\n",
              "      <th>Zetsuen no Tempest</th>\n",
              "      <th>Zettai Bouei Leviathan</th>\n",
              "      <th>Zettai Karen Children</th>\n",
              "      <th>Zettai Karen Children: The Unlimited - Hyoubu Kyousuke</th>\n",
              "      <th>Zettai Muteki Raijin-Oh</th>\n",
              "      <th>Zettai Shounen</th>\n",
              "      <th>Zipang</th>\n",
              "      <th>Zoids</th>\n",
              "      <th>Zoids Fuzors</th>\n",
              "      <th>Zoids Genesis</th>\n",
              "      <th>Zoids Shinseiki/Zero</th>\n",
              "      <th>Zoku Natsume Yuujinchou</th>\n",
              "      <th>Zoku Sayonara Zetsubou Sensei</th>\n",
              "      <th>Zombie-Loan</th>\n",
              "      <th>Zone of the Enders: Dolores, I</th>\n",
              "      <th>Zukkoke Knight: Don De La Mancha</th>\n",
              "      <th>ef: A Tale of Melodies.</th>\n",
              "      <th>ef: A Tale of Memories.</th>\n",
              "      <th>gdgd Fairies</th>\n",
              "      <th>gdgd Fairies 2</th>\n",
              "      <th>iDOLM@STER Xenoglossia</th>\n",
              "      <th>s.CRY.ed</th>\n",
              "      <th>xxxHOLiC</th>\n",
              "      <th>xxxHOLiC Kei</th>\n",
              "    </tr>\n",
              "    <tr>\n",
              "      <th>user_id</th>\n",
              "      <th></th>\n",
              "      <th></th>\n",
              "      <th></th>\n",
              "      <th></th>\n",
              "      <th></th>\n",
              "      <th></th>\n",
              "      <th></th>\n",
              "      <th></th>\n",
              "      <th></th>\n",
              "      <th></th>\n",
              "      <th></th>\n",
              "      <th></th>\n",
              "      <th></th>\n",
              "      <th></th>\n",
              "      <th></th>\n",
              "      <th></th>\n",
              "      <th></th>\n",
              "      <th></th>\n",
              "      <th></th>\n",
              "      <th></th>\n",
              "      <th></th>\n",
              "      <th></th>\n",
              "      <th></th>\n",
              "      <th></th>\n",
              "      <th></th>\n",
              "      <th></th>\n",
              "      <th></th>\n",
              "      <th></th>\n",
              "      <th></th>\n",
              "      <th></th>\n",
              "      <th></th>\n",
              "      <th></th>\n",
              "      <th></th>\n",
              "      <th></th>\n",
              "      <th></th>\n",
              "      <th></th>\n",
              "      <th></th>\n",
              "      <th></th>\n",
              "      <th></th>\n",
              "      <th></th>\n",
              "      <th></th>\n",
              "      <th></th>\n",
              "      <th></th>\n",
              "      <th></th>\n",
              "      <th></th>\n",
              "      <th></th>\n",
              "      <th></th>\n",
              "      <th></th>\n",
              "      <th></th>\n",
              "      <th></th>\n",
              "      <th></th>\n",
              "      <th></th>\n",
              "      <th></th>\n",
              "      <th></th>\n",
              "      <th></th>\n",
              "      <th></th>\n",
              "      <th></th>\n",
              "      <th></th>\n",
              "      <th></th>\n",
              "      <th></th>\n",
              "      <th></th>\n",
              "      <th></th>\n",
              "      <th></th>\n",
              "      <th></th>\n",
              "      <th></th>\n",
              "      <th></th>\n",
              "      <th></th>\n",
              "      <th></th>\n",
              "      <th></th>\n",
              "      <th></th>\n",
              "      <th></th>\n",
              "      <th></th>\n",
              "      <th></th>\n",
              "      <th></th>\n",
              "      <th></th>\n",
              "      <th></th>\n",
              "      <th></th>\n",
              "      <th></th>\n",
              "      <th></th>\n",
              "      <th></th>\n",
              "      <th></th>\n",
              "    </tr>\n",
              "  </thead>\n",
              "  <tbody>\n",
              "    <tr>\n",
              "      <th>1</th>\n",
              "      <td>NaN</td>\n",
              "      <td>NaN</td>\n",
              "      <td>NaN</td>\n",
              "      <td>NaN</td>\n",
              "      <td>NaN</td>\n",
              "      <td>-1.0</td>\n",
              "      <td>NaN</td>\n",
              "      <td>NaN</td>\n",
              "      <td>NaN</td>\n",
              "      <td>NaN</td>\n",
              "      <td>NaN</td>\n",
              "      <td>NaN</td>\n",
              "      <td>NaN</td>\n",
              "      <td>NaN</td>\n",
              "      <td>NaN</td>\n",
              "      <td>NaN</td>\n",
              "      <td>NaN</td>\n",
              "      <td>NaN</td>\n",
              "      <td>NaN</td>\n",
              "      <td>NaN</td>\n",
              "      <td>-1.0</td>\n",
              "      <td>-1.0</td>\n",
              "      <td>NaN</td>\n",
              "      <td>NaN</td>\n",
              "      <td>NaN</td>\n",
              "      <td>NaN</td>\n",
              "      <td>NaN</td>\n",
              "      <td>NaN</td>\n",
              "      <td>NaN</td>\n",
              "      <td>NaN</td>\n",
              "      <td>NaN</td>\n",
              "      <td>NaN</td>\n",
              "      <td>NaN</td>\n",
              "      <td>NaN</td>\n",
              "      <td>NaN</td>\n",
              "      <td>NaN</td>\n",
              "      <td>NaN</td>\n",
              "      <td>NaN</td>\n",
              "      <td>NaN</td>\n",
              "      <td>NaN</td>\n",
              "      <td>...</td>\n",
              "      <td>NaN</td>\n",
              "      <td>NaN</td>\n",
              "      <td>NaN</td>\n",
              "      <td>NaN</td>\n",
              "      <td>NaN</td>\n",
              "      <td>NaN</td>\n",
              "      <td>NaN</td>\n",
              "      <td>NaN</td>\n",
              "      <td>NaN</td>\n",
              "      <td>NaN</td>\n",
              "      <td>NaN</td>\n",
              "      <td>NaN</td>\n",
              "      <td>NaN</td>\n",
              "      <td>NaN</td>\n",
              "      <td>NaN</td>\n",
              "      <td>NaN</td>\n",
              "      <td>NaN</td>\n",
              "      <td>NaN</td>\n",
              "      <td>NaN</td>\n",
              "      <td>NaN</td>\n",
              "      <td>NaN</td>\n",
              "      <td>NaN</td>\n",
              "      <td>NaN</td>\n",
              "      <td>NaN</td>\n",
              "      <td>NaN</td>\n",
              "      <td>NaN</td>\n",
              "      <td>NaN</td>\n",
              "      <td>NaN</td>\n",
              "      <td>NaN</td>\n",
              "      <td>NaN</td>\n",
              "      <td>NaN</td>\n",
              "      <td>NaN</td>\n",
              "      <td>NaN</td>\n",
              "      <td>NaN</td>\n",
              "      <td>NaN</td>\n",
              "      <td>NaN</td>\n",
              "      <td>NaN</td>\n",
              "      <td>NaN</td>\n",
              "      <td>NaN</td>\n",
              "      <td>NaN</td>\n",
              "    </tr>\n",
              "    <tr>\n",
              "      <th>2</th>\n",
              "      <td>NaN</td>\n",
              "      <td>NaN</td>\n",
              "      <td>NaN</td>\n",
              "      <td>NaN</td>\n",
              "      <td>NaN</td>\n",
              "      <td>NaN</td>\n",
              "      <td>NaN</td>\n",
              "      <td>NaN</td>\n",
              "      <td>NaN</td>\n",
              "      <td>NaN</td>\n",
              "      <td>NaN</td>\n",
              "      <td>NaN</td>\n",
              "      <td>NaN</td>\n",
              "      <td>NaN</td>\n",
              "      <td>NaN</td>\n",
              "      <td>NaN</td>\n",
              "      <td>NaN</td>\n",
              "      <td>NaN</td>\n",
              "      <td>NaN</td>\n",
              "      <td>NaN</td>\n",
              "      <td>NaN</td>\n",
              "      <td>NaN</td>\n",
              "      <td>NaN</td>\n",
              "      <td>NaN</td>\n",
              "      <td>NaN</td>\n",
              "      <td>NaN</td>\n",
              "      <td>NaN</td>\n",
              "      <td>NaN</td>\n",
              "      <td>NaN</td>\n",
              "      <td>NaN</td>\n",
              "      <td>NaN</td>\n",
              "      <td>NaN</td>\n",
              "      <td>NaN</td>\n",
              "      <td>NaN</td>\n",
              "      <td>NaN</td>\n",
              "      <td>NaN</td>\n",
              "      <td>NaN</td>\n",
              "      <td>NaN</td>\n",
              "      <td>NaN</td>\n",
              "      <td>NaN</td>\n",
              "      <td>...</td>\n",
              "      <td>NaN</td>\n",
              "      <td>NaN</td>\n",
              "      <td>NaN</td>\n",
              "      <td>NaN</td>\n",
              "      <td>NaN</td>\n",
              "      <td>NaN</td>\n",
              "      <td>NaN</td>\n",
              "      <td>NaN</td>\n",
              "      <td>NaN</td>\n",
              "      <td>NaN</td>\n",
              "      <td>NaN</td>\n",
              "      <td>NaN</td>\n",
              "      <td>NaN</td>\n",
              "      <td>NaN</td>\n",
              "      <td>NaN</td>\n",
              "      <td>NaN</td>\n",
              "      <td>NaN</td>\n",
              "      <td>NaN</td>\n",
              "      <td>NaN</td>\n",
              "      <td>NaN</td>\n",
              "      <td>NaN</td>\n",
              "      <td>NaN</td>\n",
              "      <td>NaN</td>\n",
              "      <td>NaN</td>\n",
              "      <td>NaN</td>\n",
              "      <td>NaN</td>\n",
              "      <td>NaN</td>\n",
              "      <td>NaN</td>\n",
              "      <td>NaN</td>\n",
              "      <td>NaN</td>\n",
              "      <td>NaN</td>\n",
              "      <td>NaN</td>\n",
              "      <td>NaN</td>\n",
              "      <td>NaN</td>\n",
              "      <td>NaN</td>\n",
              "      <td>NaN</td>\n",
              "      <td>NaN</td>\n",
              "      <td>NaN</td>\n",
              "      <td>NaN</td>\n",
              "      <td>NaN</td>\n",
              "    </tr>\n",
              "    <tr>\n",
              "      <th>3</th>\n",
              "      <td>NaN</td>\n",
              "      <td>NaN</td>\n",
              "      <td>NaN</td>\n",
              "      <td>NaN</td>\n",
              "      <td>NaN</td>\n",
              "      <td>NaN</td>\n",
              "      <td>NaN</td>\n",
              "      <td>NaN</td>\n",
              "      <td>NaN</td>\n",
              "      <td>NaN</td>\n",
              "      <td>NaN</td>\n",
              "      <td>NaN</td>\n",
              "      <td>NaN</td>\n",
              "      <td>NaN</td>\n",
              "      <td>NaN</td>\n",
              "      <td>NaN</td>\n",
              "      <td>NaN</td>\n",
              "      <td>NaN</td>\n",
              "      <td>NaN</td>\n",
              "      <td>NaN</td>\n",
              "      <td>NaN</td>\n",
              "      <td>7.0</td>\n",
              "      <td>NaN</td>\n",
              "      <td>NaN</td>\n",
              "      <td>NaN</td>\n",
              "      <td>NaN</td>\n",
              "      <td>6.0</td>\n",
              "      <td>NaN</td>\n",
              "      <td>NaN</td>\n",
              "      <td>NaN</td>\n",
              "      <td>NaN</td>\n",
              "      <td>NaN</td>\n",
              "      <td>NaN</td>\n",
              "      <td>NaN</td>\n",
              "      <td>NaN</td>\n",
              "      <td>NaN</td>\n",
              "      <td>NaN</td>\n",
              "      <td>NaN</td>\n",
              "      <td>NaN</td>\n",
              "      <td>NaN</td>\n",
              "      <td>...</td>\n",
              "      <td>NaN</td>\n",
              "      <td>NaN</td>\n",
              "      <td>NaN</td>\n",
              "      <td>NaN</td>\n",
              "      <td>NaN</td>\n",
              "      <td>NaN</td>\n",
              "      <td>NaN</td>\n",
              "      <td>NaN</td>\n",
              "      <td>NaN</td>\n",
              "      <td>NaN</td>\n",
              "      <td>NaN</td>\n",
              "      <td>NaN</td>\n",
              "      <td>NaN</td>\n",
              "      <td>NaN</td>\n",
              "      <td>NaN</td>\n",
              "      <td>NaN</td>\n",
              "      <td>8.0</td>\n",
              "      <td>NaN</td>\n",
              "      <td>NaN</td>\n",
              "      <td>NaN</td>\n",
              "      <td>NaN</td>\n",
              "      <td>NaN</td>\n",
              "      <td>NaN</td>\n",
              "      <td>NaN</td>\n",
              "      <td>NaN</td>\n",
              "      <td>NaN</td>\n",
              "      <td>NaN</td>\n",
              "      <td>NaN</td>\n",
              "      <td>NaN</td>\n",
              "      <td>7.0</td>\n",
              "      <td>NaN</td>\n",
              "      <td>NaN</td>\n",
              "      <td>NaN</td>\n",
              "      <td>NaN</td>\n",
              "      <td>NaN</td>\n",
              "      <td>NaN</td>\n",
              "      <td>NaN</td>\n",
              "      <td>NaN</td>\n",
              "      <td>NaN</td>\n",
              "      <td>NaN</td>\n",
              "    </tr>\n",
              "    <tr>\n",
              "      <th>4</th>\n",
              "      <td>NaN</td>\n",
              "      <td>NaN</td>\n",
              "      <td>NaN</td>\n",
              "      <td>NaN</td>\n",
              "      <td>NaN</td>\n",
              "      <td>NaN</td>\n",
              "      <td>NaN</td>\n",
              "      <td>NaN</td>\n",
              "      <td>NaN</td>\n",
              "      <td>NaN</td>\n",
              "      <td>NaN</td>\n",
              "      <td>NaN</td>\n",
              "      <td>NaN</td>\n",
              "      <td>NaN</td>\n",
              "      <td>NaN</td>\n",
              "      <td>NaN</td>\n",
              "      <td>NaN</td>\n",
              "      <td>NaN</td>\n",
              "      <td>NaN</td>\n",
              "      <td>NaN</td>\n",
              "      <td>NaN</td>\n",
              "      <td>NaN</td>\n",
              "      <td>NaN</td>\n",
              "      <td>NaN</td>\n",
              "      <td>NaN</td>\n",
              "      <td>NaN</td>\n",
              "      <td>-1.0</td>\n",
              "      <td>NaN</td>\n",
              "      <td>NaN</td>\n",
              "      <td>NaN</td>\n",
              "      <td>NaN</td>\n",
              "      <td>NaN</td>\n",
              "      <td>NaN</td>\n",
              "      <td>NaN</td>\n",
              "      <td>NaN</td>\n",
              "      <td>NaN</td>\n",
              "      <td>NaN</td>\n",
              "      <td>NaN</td>\n",
              "      <td>NaN</td>\n",
              "      <td>-1.0</td>\n",
              "      <td>...</td>\n",
              "      <td>NaN</td>\n",
              "      <td>NaN</td>\n",
              "      <td>NaN</td>\n",
              "      <td>NaN</td>\n",
              "      <td>NaN</td>\n",
              "      <td>NaN</td>\n",
              "      <td>NaN</td>\n",
              "      <td>NaN</td>\n",
              "      <td>NaN</td>\n",
              "      <td>NaN</td>\n",
              "      <td>NaN</td>\n",
              "      <td>NaN</td>\n",
              "      <td>NaN</td>\n",
              "      <td>NaN</td>\n",
              "      <td>NaN</td>\n",
              "      <td>NaN</td>\n",
              "      <td>NaN</td>\n",
              "      <td>NaN</td>\n",
              "      <td>NaN</td>\n",
              "      <td>NaN</td>\n",
              "      <td>NaN</td>\n",
              "      <td>NaN</td>\n",
              "      <td>NaN</td>\n",
              "      <td>NaN</td>\n",
              "      <td>NaN</td>\n",
              "      <td>NaN</td>\n",
              "      <td>NaN</td>\n",
              "      <td>NaN</td>\n",
              "      <td>NaN</td>\n",
              "      <td>NaN</td>\n",
              "      <td>NaN</td>\n",
              "      <td>NaN</td>\n",
              "      <td>NaN</td>\n",
              "      <td>NaN</td>\n",
              "      <td>NaN</td>\n",
              "      <td>NaN</td>\n",
              "      <td>NaN</td>\n",
              "      <td>NaN</td>\n",
              "      <td>NaN</td>\n",
              "      <td>NaN</td>\n",
              "    </tr>\n",
              "    <tr>\n",
              "      <th>5</th>\n",
              "      <td>NaN</td>\n",
              "      <td>NaN</td>\n",
              "      <td>NaN</td>\n",
              "      <td>NaN</td>\n",
              "      <td>NaN</td>\n",
              "      <td>NaN</td>\n",
              "      <td>NaN</td>\n",
              "      <td>NaN</td>\n",
              "      <td>NaN</td>\n",
              "      <td>NaN</td>\n",
              "      <td>NaN</td>\n",
              "      <td>NaN</td>\n",
              "      <td>NaN</td>\n",
              "      <td>NaN</td>\n",
              "      <td>NaN</td>\n",
              "      <td>NaN</td>\n",
              "      <td>NaN</td>\n",
              "      <td>NaN</td>\n",
              "      <td>NaN</td>\n",
              "      <td>NaN</td>\n",
              "      <td>2.0</td>\n",
              "      <td>3.0</td>\n",
              "      <td>NaN</td>\n",
              "      <td>NaN</td>\n",
              "      <td>NaN</td>\n",
              "      <td>NaN</td>\n",
              "      <td>NaN</td>\n",
              "      <td>NaN</td>\n",
              "      <td>NaN</td>\n",
              "      <td>NaN</td>\n",
              "      <td>NaN</td>\n",
              "      <td>NaN</td>\n",
              "      <td>NaN</td>\n",
              "      <td>NaN</td>\n",
              "      <td>NaN</td>\n",
              "      <td>NaN</td>\n",
              "      <td>NaN</td>\n",
              "      <td>NaN</td>\n",
              "      <td>NaN</td>\n",
              "      <td>NaN</td>\n",
              "      <td>...</td>\n",
              "      <td>NaN</td>\n",
              "      <td>3.0</td>\n",
              "      <td>NaN</td>\n",
              "      <td>NaN</td>\n",
              "      <td>5.0</td>\n",
              "      <td>NaN</td>\n",
              "      <td>7.0</td>\n",
              "      <td>NaN</td>\n",
              "      <td>NaN</td>\n",
              "      <td>NaN</td>\n",
              "      <td>NaN</td>\n",
              "      <td>1.0</td>\n",
              "      <td>1.0</td>\n",
              "      <td>1.0</td>\n",
              "      <td>1.0</td>\n",
              "      <td>NaN</td>\n",
              "      <td>NaN</td>\n",
              "      <td>NaN</td>\n",
              "      <td>NaN</td>\n",
              "      <td>NaN</td>\n",
              "      <td>NaN</td>\n",
              "      <td>NaN</td>\n",
              "      <td>NaN</td>\n",
              "      <td>NaN</td>\n",
              "      <td>NaN</td>\n",
              "      <td>NaN</td>\n",
              "      <td>NaN</td>\n",
              "      <td>NaN</td>\n",
              "      <td>7.0</td>\n",
              "      <td>NaN</td>\n",
              "      <td>NaN</td>\n",
              "      <td>NaN</td>\n",
              "      <td>NaN</td>\n",
              "      <td>NaN</td>\n",
              "      <td>NaN</td>\n",
              "      <td>NaN</td>\n",
              "      <td>NaN</td>\n",
              "      <td>NaN</td>\n",
              "      <td>2.0</td>\n",
              "      <td>NaN</td>\n",
              "    </tr>\n",
              "  </tbody>\n",
              "</table>\n",
              "<p>5 rows × 2804 columns</p>\n",
              "</div>"
            ],
            "text/plain": [
              "name     .hack//Roots  .hack//Sign  ...  xxxHOLiC  xxxHOLiC Kei\n",
              "user_id                             ...                        \n",
              "1                 NaN          NaN  ...       NaN           NaN\n",
              "2                 NaN          NaN  ...       NaN           NaN\n",
              "3                 NaN          NaN  ...       NaN           NaN\n",
              "4                 NaN          NaN  ...       NaN           NaN\n",
              "5                 NaN          NaN  ...       2.0           NaN\n",
              "\n",
              "[5 rows x 2804 columns]"
            ]
          },
          "execution_count": 10,
          "metadata": {
            "tags": []
          },
          "output_type": "execute_result"
        }
      ],
      "source": [
        "#For collaborative filtering we'll need to create a pivot table of users on one axis and tv show names along the other.\n",
        "#The pivot table will help us in defining the similarity between users and shows to better predict who will like what.\n",
        "\n",
        "piv = merged_sub.pivot_table(index=['user_id'], columns=['name'], values='user_rating')\n",
        "print(piv.shape)\n",
        "piv.head()"
      ]
    },
    {
      "cell_type": "code",
      "execution_count": null,
      "metadata": {
        "id": "MBKoWcLlm4d_"
      },
      "outputs": [],
      "source": [
        "# Note: As we are subtracting the mean from each rating to standardize\n",
        "# all users with only one rating or who had rated everything the same will be dropped\n",
        "\n",
        "# Normalize the values\n",
        "piv_norm = piv.apply(lambda x: (x-np.mean(x))/(np.max(x)-np.min(x)), axis=1)\n",
        "\n",
        "\n",
        "# Drop all columns containing only zeros representing users who did not rate\n",
        "piv_norm.fillna(0, inplace=True)\n",
        "piv_norm = piv_norm.T\n",
        "piv_norm = piv_norm.loc[:, (piv_norm != 0).any(axis=0)]"
      ]
    },
    {
      "cell_type": "code",
      "execution_count": null,
      "metadata": {
        "id": "NtuJs9wnnD_g"
      },
      "outputs": [],
      "source": [
        "# Our data needs to be in a sparse matrix format to be read by the following functions\n",
        "\n",
        "piv_sparse = sp.sparse.csr_matrix(piv_norm.values)"
      ]
    },
    {
      "cell_type": "code",
      "execution_count": null,
      "metadata": {
        "id": "yHwVOp6ZnIF2"
      },
      "outputs": [],
      "source": [
        "item_similarity = cosine_similarity(piv_sparse)\n",
        "user_similarity = cosine_similarity(piv_sparse.T)"
      ]
    },
    {
      "cell_type": "code",
      "execution_count": null,
      "metadata": {
        "id": "8JWFibyOnNPq"
      },
      "outputs": [],
      "source": [
        "# Inserting the similarity matricies into dataframe objects\n",
        "\n",
        "item_sim_df = pd.DataFrame(item_similarity, index = piv_norm.index, columns = piv_norm.index)\n",
        "user_sim_df = pd.DataFrame(user_similarity, index = piv_norm.columns, columns = piv_norm.columns)"
      ]
    },
    {
      "cell_type": "code",
      "execution_count": null,
      "metadata": {
        "id": "Cshs_PrinSKV"
      },
      "outputs": [],
      "source": [
        "# This function will return the top 10 shows with the highest cosine similarity value\n",
        "\n",
        "def top_animes(anime_name):\n",
        "    count = 1\n",
        "    print('Similar shows to {} include:\\n'.format(anime_name))\n",
        "    for item in item_sim_df.sort_values(by = anime_name, ascending = False).index[1:11]:\n",
        "        print('No. {}: {}'.format(count, item))\n",
        "        count +=1"
      ]
    },
    {
      "cell_type": "code",
      "execution_count": null,
      "metadata": {
        "id": "EgY_QRvCnV4T"
      },
      "outputs": [],
      "source": [
        "# This function will return the top 5 users with the highest similarity value\n",
        "\n",
        "def top_users(user):\n",
        "\n",
        "    if user not in piv_norm.columns:\n",
        "        return('No data available on user {}'.format(user))\n",
        "\n",
        "    print('Most Similar Users:\\n')\n",
        "    sim_values = user_sim_df.sort_values(by=user, ascending=False).loc[:,user].tolist()[1:11]\n",
        "    sim_users = user_sim_df.sort_values(by=user, ascending=False).index[1:11]\n",
        "    zipped = zip(sim_users, sim_values,)\n",
        "    for user, sim in zipped:\n",
        "        print('User #{0}, Similarity value: {1:.2f}'.format(user, sim))"
      ]
    },
    {
      "cell_type": "code",
      "execution_count": null,
      "metadata": {
        "id": "h0oy60iEnYDO"
      },
      "outputs": [],
      "source": [
        "# This function constructs a list of lists containing the highest rated shows per similar user\n",
        "# and returns the name of the show along with the frequency it appears in the list\n",
        "\n",
        "def similar_user_recs(user):\n",
        "\n",
        "    if user not in piv_norm.columns:\n",
        "        return('No data available on user {}'.format(user))\n",
        "\n",
        "    sim_users = user_sim_df.sort_values(by=user, ascending=False).index[1:11]\n",
        "    best = []\n",
        "    most_common = {}\n",
        "\n",
        "    for i in sim_users:\n",
        "        max_score = piv_norm.loc[:, i].max()\n",
        "        best.append(piv_norm[piv_norm.loc[:, i]==max_score].index.tolist())\n",
        "    for i in range(len(best)):\n",
        "        for j in best[i]:\n",
        "            if j in most_common:\n",
        "                most_common[j] += 1\n",
        "            else:\n",
        "                most_common[j] = 1\n",
        "    sorted_list = sorted(most_common.items(), key=operator.itemgetter(1), reverse=True)\n",
        "    return sorted_list[:5]"
      ]
    },
    {
      "cell_type": "code",
      "execution_count": null,
      "metadata": {
        "id": "LtRM0c64naiF"
      },
      "outputs": [],
      "source": [
        "# This function calculates the weighted average of similar users\n",
        "# to determine a potential rating for an input user and show\n",
        "\n",
        "def predicted_rating(anime_name, user):\n",
        "    sim_users = user_sim_df.sort_values(by=user, ascending=False).index[1:1000]\n",
        "    user_values = user_sim_df.sort_values(by=user, ascending=False).loc[:,user].tolist()[1:1000]\n",
        "    rating_list = []\n",
        "    weight_list = []\n",
        "    for j, i in enumerate(sim_users):\n",
        "        rating = piv.loc[i, anime_name]\n",
        "        similarity = user_values[j]\n",
        "        if np.isnan(rating):\n",
        "            continue\n",
        "        elif not np.isnan(rating):\n",
        "            rating_list.append(rating*similarity)\n",
        "            weight_list.append(similarity)\n",
        "    return sum(rating_list)/sum(weight_list)"
      ]
    },
    {
      "cell_type": "code",
      "execution_count": null,
      "metadata": {
        "colab": {
          "base_uri": "https://localhost:8080/"
        },
        "id": "A2t_9aiIneXU",
        "outputId": "a5af92c6-d7a1-4f64-9620-241b6d59aad3"
      },
      "outputs": [
        {
          "name": "stdout",
          "output_type": "stream",
          "text": [
            "Similar shows to Cowboy Bebop include:\n",
            "\n",
            "No. 1: Samurai Champloo\n",
            "No. 2: Tengen Toppa Gurren Lagann\n",
            "No. 3: Neon Genesis Evangelion\n",
            "No. 4: Black Lagoon\n",
            "No. 5: Great Teacher Onizuka\n",
            "No. 6: Trigun\n",
            "No. 7: Black Lagoon: The Second Barrage\n",
            "No. 8: Baccano!\n",
            "No. 9: Fullmetal Alchemist: Brotherhood\n",
            "No. 10: Ghost in the Shell: Stand Alone Complex\n"
          ]
        }
      ],
      "source": [
        "top_animes('Cowboy Bebop')"
      ]
    },
    {
      "cell_type": "code",
      "execution_count": null,
      "metadata": {
        "colab": {
          "base_uri": "https://localhost:8080/"
        },
        "id": "_iRn9hw6ngpX",
        "outputId": "042c83a9-c64d-4642-cce8-268220a1bbe3"
      },
      "outputs": [
        {
          "name": "stdout",
          "output_type": "stream",
          "text": [
            "Most Similar Users:\n",
            "\n",
            "User #4647, Similarity value: 0.55\n",
            "User #2277, Similarity value: 0.54\n",
            "User #3225, Similarity value: 0.47\n",
            "User #934, Similarity value: 0.41\n",
            "User #1406, Similarity value: 0.38\n",
            "User #6563, Similarity value: 0.38\n",
            "User #4037, Similarity value: 0.36\n",
            "User #1038, Similarity value: 0.35\n",
            "User #9577, Similarity value: 0.35\n",
            "User #3028, Similarity value: 0.32\n"
          ]
        }
      ],
      "source": [
        "top_users(3)"
      ]
    },
    {
      "cell_type": "code",
      "execution_count": null,
      "metadata": {
        "colab": {
          "base_uri": "https://localhost:8080/"
        },
        "id": "QJOtyLnZnik0",
        "outputId": "387c956d-2efd-48bb-c57d-b51ff34804c4"
      },
      "outputs": [
        {
          "data": {
            "text/plain": [
              "[('Fullmetal Alchemist: Brotherhood', 7),\n",
              " ('Shingeki no Kyojin', 4),\n",
              " ('Toradora!', 3),\n",
              " ('Kiseijuu: Sei no Kakuritsu', 3),\n",
              " ('Akame ga Kill!', 2)]"
            ]
          },
          "execution_count": 23,
          "metadata": {
            "tags": []
          },
          "output_type": "execute_result"
        }
      ],
      "source": [
        "similar_user_recs(3)"
      ]
    },
    {
      "cell_type": "code",
      "execution_count": null,
      "metadata": {
        "colab": {
          "base_uri": "https://localhost:8080/"
        },
        "id": "gq8Cj-bfnlKl",
        "outputId": "c3195941-75cd-422b-b56b-1b8ac85a2bfd"
      },
      "outputs": [
        {
          "data": {
            "text/plain": [
              "8.06794597380504"
            ]
          },
          "execution_count": 24,
          "metadata": {
            "tags": []
          },
          "output_type": "execute_result"
        }
      ],
      "source": [
        "predicted_rating('Cowboy Bebop', 3)"
      ]
    },
    {
      "cell_type": "markdown",
      "metadata": {
        "id": "WZvPM5rHjLJw"
      },
      "source": [
        "--------------------------------------------------------"
      ]
    },
    {
      "cell_type": "markdown",
      "metadata": {
        "id": "eZyi1tDJoljN"
      },
      "source": [
        "load panda dataframe\n",
        "--------------------------------------------"
      ]
    },
    {
      "cell_type": "code",
      "execution_count": null,
      "metadata": {
        "colab": {
          "base_uri": "https://localhost:8080/"
        },
        "id": "cmTzx1NCflsA",
        "outputId": "ad7e332d-a0e1-413e-d519-c758c65c28d8"
      },
      "outputs": [
        {
          "name": "stdout",
          "output_type": "stream",
          "text": [
            "Looking in indexes: https://pypi.org/simple, https://us-python.pkg.dev/colab-wheels/public/simple/\n",
            "Requirement already satisfied: scikit-surprise in /usr/local/lib/python3.7/dist-packages (1.1.1)\n",
            "Requirement already satisfied: joblib>=0.11 in /usr/local/lib/python3.7/dist-packages (from scikit-surprise) (1.1.0)\n",
            "Requirement already satisfied: six>=1.10.0 in /usr/local/lib/python3.7/dist-packages (from scikit-surprise) (1.15.0)\n",
            "Requirement already satisfied: scipy>=1.0.0 in /usr/local/lib/python3.7/dist-packages (from scikit-surprise) (1.7.3)\n",
            "Requirement already satisfied: numpy>=1.11.2 in /usr/local/lib/python3.7/dist-packages (from scikit-surprise) (1.21.6)\n"
          ]
        }
      ],
      "source": [
        "!pip install scikit-surprise\n",
        "from surprise import Dataset\n",
        "from surprise import Reader\n",
        "\n",
        "\n",
        "ratings_dict = {\n",
        "  \"item\": animeID,\n",
        "  \"user\": userID,\n",
        "  \"rating\": rate,\n",
        "}\n",
        "\n",
        "df = pd.DataFrame(ratings_dict)\n",
        "# print(df)\n",
        "reader = Reader(rating_scale=(1, 10))\n",
        "\n",
        "\n",
        "#loads pandas dataframe\n",
        "data = Dataset.load_from_df(df[[\"user\", \"item\", \"rating\"]], reader)\n",
        "\n",
        "#loads the builtin MOvielens-100k data\n",
        "# movielens = Dataset.load_builtin('ml-100k')\n",
        "# http://surpriselib.com/"
      ]
    },
    {
      "cell_type": "markdown",
      "metadata": {
        "id": "utRjQNPWYlb6"
      },
      "source": [
        "K-nearest model (cosine)\n",
        "-----------------------------------------------"
      ]
    },
    {
      "cell_type": "code",
      "execution_count": null,
      "metadata": {
        "colab": {
          "background_save": true,
          "base_uri": "https://localhost:8080/"
        },
        "id": "kxV31zdVUpHB",
        "outputId": "5e7f752b-a613-4045-d88f-26422842da30"
      },
      "outputs": [
        {
          "name": "stdout",
          "output_type": "stream",
          "text": [
            "Computing the cosine similarity matrix...\n",
            "Done computing similarity matrix.\n",
            "Computing the cosine similarity matrix...\n",
            "Done computing similarity matrix.\n",
            "Computing the cosine similarity matrix...\n",
            "Done computing similarity matrix.\n",
            "Computing the cosine similarity matrix...\n",
            "Done computing similarity matrix.\n",
            "Computing the cosine similarity matrix...\n",
            "Done computing similarity matrix.\n",
            "Evaluating RMSE, MAE of algorithm KNNWithMeans on 5 split(s).\n",
            "\n",
            "                  Fold 1  Fold 2  Fold 3  Fold 4  Fold 5  Mean    Std     \n",
            "RMSE (testset)    1.0928  1.0895  1.0904  1.0922  1.0946  1.0919  0.0018  \n",
            "MAE (testset)     0.8256  0.8226  0.8227  0.8230  0.8246  0.8237  0.0012  \n",
            "Fit time          14.50   14.27   13.91   15.05   13.72   14.29   0.47    \n",
            "Test time         100.45  87.55   86.54   88.73   88.64   90.38   5.10    \n"
          ]
        },
        {
          "data": {
            "text/plain": [
              "{'test_rmse': array([1.09277243, 1.08945772, 1.09035998, 1.09223711, 1.09456591]),\n",
              " 'test_mae': array([0.82557911, 0.82257493, 0.82272894, 0.82303062, 0.82459537]),\n",
              " 'fit_time': (14.50347900390625,\n",
              "  14.271815061569214,\n",
              "  13.911585330963135,\n",
              "  15.045344829559326,\n",
              "  13.71623182296753),\n",
              " 'test_time': (100.44956612586975,\n",
              "  87.54612803459167,\n",
              "  86.54366993904114,\n",
              "  88.73291850090027,\n",
              "  88.64050316810608)}"
            ]
          },
          "execution_count": 7,
          "metadata": {},
          "output_type": "execute_result"
        }
      ],
      "source": [
        "from surprise import KNNWithMeans\n",
        "from surprise import accuracy\n",
        "from surprise.model_selection import train_test_split\n",
        "from surprise.model_selection import cross_validate\n",
        "\n",
        "\n",
        "# trainset, testset = train_test_split(data, test_size=.25)\n",
        "\n",
        "#To use item-based cosine similarity\n",
        "sim_options = {\n",
        "  \"name\": \"cosine\",\n",
        "  \"user_based\": False, #find similarities between items\n",
        "}\n",
        "algo = KNNWithMeans(sim_options=sim_options)\n",
        "\n",
        "# algo.fit(trainset)\n",
        "cross_validate(algo, data, measures=['RMSE', 'MAE'], cv=5, verbose=True)\n",
        "\n",
        "# predictions = algo.test(testset)\n",
        "\n",
        "# # Then compute RMSE\n",
        "# accuracy.rmse(predictions)\n",
        "\n",
        "# # Then compute MAE\n",
        "# accuracy.mae(predictions)\n",
        "\n",
        "# #TRAIN model\n",
        "# trainingSet = data.build_full_trainset()\n",
        "# algo.fit(trainingSet)\n",
        "\n",
        "# predicted = algo.predict(testSet)\n",
        "draw_confusion_matrix(predicted, testSet, ['Fake', 'True'])\n",
        "\n",
        "# prediction.est"
      ]
    },
    {
      "cell_type": "code",
      "execution_count": null,
      "metadata": {
        "colab": {
          "base_uri": "https://localhost:8080/"
        },
        "id": "nuA3tLE_eL4q",
        "outputId": "295488ee-adbf-453a-a2bb-0e723b90b2c9"
      },
      "outputs": [
        {
          "name": "stdout",
          "output_type": "stream",
          "text": [
            "MAE:  0.8884\n"
          ]
        },
        {
          "data": {
            "text/plain": [
              "0.8883618742366253"
            ]
          },
          "execution_count": 26,
          "metadata": {
            "tags": []
          },
          "output_type": "execute_result"
        }
      ],
      "source": [
        "# predictions = algo.test(testset)\n",
        "\n",
        "# # Then compute RMSE\n",
        "# accuracy.rmse(predictions)\n",
        "# Then compute MAE\n",
        "accuracy.mae(predictions)"
      ]
    },
    {
      "cell_type": "markdown",
      "metadata": {
        "id": "c_slT0KAo2MX"
      },
      "source": [
        "K-nearest model (msd)\n",
        "-----------------------------------------------"
      ]
    },
    {
      "cell_type": "code",
      "execution_count": null,
      "metadata": {
        "colab": {
          "base_uri": "https://localhost:8080/"
        },
        "id": "fKbpdfie1xla",
        "outputId": "464ddfcf-828f-4bb1-93a5-db55a39eb9b1"
      },
      "outputs": [
        {
          "name": "stdout",
          "output_type": "stream",
          "text": [
            "Computing the msd similarity matrix...\n",
            "Done computing similarity matrix.\n",
            "Computing the msd similarity matrix...\n",
            "Done computing similarity matrix.\n",
            "Computing the msd similarity matrix...\n",
            "Done computing similarity matrix.\n",
            "Computing the msd similarity matrix...\n",
            "Done computing similarity matrix.\n",
            "Computing the msd similarity matrix...\n",
            "Done computing similarity matrix.\n",
            "Computing the msd similarity matrix...\n",
            "Done computing similarity matrix.\n",
            "Evaluating RMSE, MAE of algorithm KNNWithMeans on 5 split(s).\n",
            "\n",
            "                  Fold 1  Fold 2  Fold 3  Fold 4  Fold 5  Mean    Std     \n",
            "RMSE (testset)    1.0832  1.0844  1.0882  1.0820  1.0872  1.0850  0.0023  \n",
            "MAE (testset)     0.8150  0.8169  0.8184  0.8150  0.8177  0.8166  0.0014  \n",
            "Fit time          10.50   11.16   11.42   11.36   11.30   11.15   0.33    \n",
            "Test time         102.69  102.17  102.66  102.43  101.82  102.36  0.33    \n"
          ]
        },
        {
          "data": {
            "text/plain": [
              "{'fit_time': (10.500980138778687,\n",
              "  11.163866758346558,\n",
              "  11.417117595672607,\n",
              "  11.356464624404907,\n",
              "  11.29641342163086),\n",
              " 'test_mae': array([0.81496837, 0.81685263, 0.81839657, 0.81498517, 0.817666  ]),\n",
              " 'test_rmse': array([1.08323019, 1.08440193, 1.08820943, 1.08203895, 1.08724668]),\n",
              " 'test_time': (102.69285082817078,\n",
              "  102.17233085632324,\n",
              "  102.66315937042236,\n",
              "  102.42883634567261,\n",
              "  101.81922960281372)}"
            ]
          },
          "execution_count": 51,
          "metadata": {
            "tags": []
          },
          "output_type": "execute_result"
        }
      ],
      "source": [
        "from surprise import KNNWithMeans\n",
        "from surprise import accuracy\n",
        "from surprise.model_selection import train_test_split\n",
        "from surprise.model_selection import cross_validate\n",
        "\n",
        "\n",
        "trainset, testset = train_test_split(data, test_size=.25)\n",
        "\n",
        "#To use item-based cosine similarity\n",
        "sim_options = {\n",
        "  \"name\": \"msd\",\n",
        "  \"min_support\": 5,\n",
        "  \"user_based\": False, #find similarities between items\n",
        "}\n",
        "algo = KNNWithMeans(sim_options=sim_options)\n",
        "algo.fit(trainset)\n",
        "\n",
        "# cross_validate(algo, data, measures=['RMSE', 'MAE'], cv=5, verbose=True)\n",
        "\n",
        "\n",
        "\n",
        "predictions = algo.test(testset)\n",
        "\n",
        "# # Then compute RMSE\n",
        "accuracy.rmse(predictions)\n",
        "# #execution time RMSE: 9m 36s  RMSE: 1.1621\n",
        "\n",
        "# # Then compute MAE\n",
        "# accuracy.mae(predictions)\n",
        "\n",
        "# #TRAIN model\n",
        "# trainingSet = data.build_full_trainset()\n",
        "# algo.fit(trainingSet)\n",
        "\n",
        "# prediction = algo.predict(25, 20787)\n",
        "# prediction.est"
      ]
    },
    {
      "cell_type": "code",
      "execution_count": null,
      "metadata": {
        "colab": {
          "base_uri": "https://localhost:8080/"
        },
        "id": "0N9Lo3_eiKkj",
        "outputId": "bbe821c4-1285-4c38-c48d-ce4eb4faf23d"
      },
      "outputs": [
        {
          "data": {
            "text/plain": [
              "7.406113004352914"
            ]
          },
          "execution_count": 30,
          "metadata": {
            "tags": []
          },
          "output_type": "execute_result"
        }
      ],
      "source": [
        "# predictions = algo.test(testset)\n",
        "\n",
        "# # # Then compute RMSE\n",
        "# # accuracy.rmse(predictions)\n",
        "# # Then compute MAE\n",
        "# accuracy.mae(predictions)\n",
        "\n",
        "prediction = algo.predict(25, 20787)\n",
        "prediction.est"
      ]
    },
    {
      "cell_type": "markdown",
      "metadata": {
        "id": "B3tyn1pSYm07"
      },
      "source": [
        "KNNBasic\n",
        "---------------------------------------------"
      ]
    },
    {
      "cell_type": "code",
      "execution_count": null,
      "metadata": {
        "colab": {
          "base_uri": "https://localhost:8080/"
        },
        "id": "u4nE9JigYu5A",
        "outputId": "b775281c-b91d-4c1e-a47f-dfddb7a24b0f"
      },
      "outputs": [
        {
          "name": "stdout",
          "output_type": "stream",
          "text": [
            "Computing the msd similarity matrix...\n",
            "Done computing similarity matrix.\n",
            "Computing the msd similarity matrix...\n",
            "Done computing similarity matrix.\n",
            "Computing the msd similarity matrix...\n",
            "Done computing similarity matrix.\n",
            "Computing the msd similarity matrix...\n",
            "Done computing similarity matrix.\n",
            "Computing the msd similarity matrix...\n",
            "Done computing similarity matrix.\n",
            "Evaluating RMSE, MAE of algorithm KNNBasic on 5 split(s).\n",
            "\n",
            "                  Fold 1  Fold 2  Fold 3  Fold 4  Fold 5  Mean    Std     \n",
            "RMSE (testset)    1.1006  1.1025  1.1018  1.1042  1.1041  1.1026  0.0014  \n",
            "MAE (testset)     0.8286  0.8293  0.8292  0.8305  0.8309  0.8297  0.0008  \n",
            "Fit time          9.51    10.22   10.02   10.54   10.12   10.08   0.34    \n",
            "Test time         100.67  98.29   101.63  98.35   102.09  100.21  1.61    \n"
          ]
        },
        {
          "data": {
            "text/plain": [
              "{'fit_time': (9.508226871490479,\n",
              "  10.221405506134033,\n",
              "  10.022903680801392,\n",
              "  10.539912700653076,\n",
              "  10.121744871139526),\n",
              " 'test_mae': array([0.82862026, 0.82934477, 0.82915679, 0.83049423, 0.83085445]),\n",
              " 'test_rmse': array([1.10056758, 1.10246311, 1.10179841, 1.10418123, 1.10406024]),\n",
              " 'test_time': (100.66896295547485,\n",
              "  98.28871321678162,\n",
              "  101.6349868774414,\n",
              "  98.34880018234253,\n",
              "  102.09240531921387)}"
            ]
          },
          "execution_count": 25,
          "metadata": {
            "tags": []
          },
          "output_type": "execute_result"
        }
      ],
      "source": [
        "from surprise import KNNBasic\n",
        "from surprise import accuracy\n",
        "from surprise.model_selection import cross_validate\n",
        "\n",
        "\n",
        "#To use item-based cosine similarity\n",
        "sim_options = {\n",
        "  \"name\": \"msd\",\n",
        "  \"min_support\": 5,\n",
        "  \"user_based\": False, #find similarities between items\n",
        "}\n",
        "algo = KNNBasic(sim_options=sim_options)\n",
        "cross_validate(algo, data, measures=['RMSE', 'MAE'], cv=5, verbose=True)\n",
        "\n",
        "\n",
        "\n",
        "# predictions = algo.test(testset)\n",
        "\n",
        "# # Then compute RMSE\n",
        "# accuracy.rmse(predictions)\n",
        "# #execution time RMSE: 9m 36s  RMSE: 1.1621\n",
        "\n",
        "# # Then compute MAE\n",
        "# accuracy.mae(predictions)\n",
        "\n",
        "# #TRAIN model\n",
        "# trainingSet = data.build_full_trainset()\n",
        "# algo.fit(trainingSet)\n",
        "\n",
        "# prediction = algo.predict(25, 20787)\n",
        "# prediction.est"
      ]
    },
    {
      "cell_type": "markdown",
      "metadata": {
        "id": "aEa-Bg0QZG1f"
      },
      "source": [
        "KNNWithZScore\n",
        "--------------------------------------------"
      ]
    },
    {
      "cell_type": "markdown",
      "metadata": {
        "id": "VuCNP7ME_1mc"
      },
      "source": [
        "what is it comparing by passing in the entire dataset, what is the y?\n",
        "predict how each anime close to each other\n",
        "In the cross validation, predict the rating that the user will give to a certain anime?\n",
        "\n",
        "how to make it into a recommendation system using the best a"
      ]
    },
    {
      "cell_type": "code",
      "execution_count": null,
      "metadata": {
        "colab": {
          "base_uri": "https://localhost:8080/"
        },
        "id": "ADNOtzL8ZNY6",
        "outputId": "d3f56ca7-e079-4ada-b65b-74e9ed8e38a3"
      },
      "outputs": [
        {
          "name": "stdout",
          "output_type": "stream",
          "text": [
            "Computing the msd similarity matrix...\n",
            "Done computing similarity matrix.\n",
            "Computing the msd similarity matrix...\n",
            "Done computing similarity matrix.\n",
            "Computing the msd similarity matrix...\n",
            "Done computing similarity matrix.\n",
            "Computing the msd similarity matrix...\n",
            "Done computing similarity matrix.\n",
            "Computing the msd similarity matrix...\n",
            "Done computing similarity matrix.\n",
            "Evaluating RMSE, MAE of algorithm KNNWithZScore on 5 split(s).\n",
            "\n",
            "                  Fold 1  Fold 2  Fold 3  Fold 4  Fold 5  Mean    Std     \n",
            "RMSE (testset)    1.0887  1.0863  1.0886  1.0902  1.0887  1.0885  0.0012  \n",
            "MAE (testset)     0.8179  0.8156  0.8180  0.8175  0.8172  0.8172  0.0009  \n",
            "Fit time          11.07   13.16   12.96   13.66   13.01   12.77   0.89    \n",
            "Test time         109.48  110.97  109.78  109.49  108.78  109.70  0.72    \n"
          ]
        },
        {
          "data": {
            "text/plain": [
              "{'fit_time': (11.065867185592651,\n",
              "  13.157791137695312,\n",
              "  12.961036682128906,\n",
              "  13.664770126342773,\n",
              "  13.006183862686157),\n",
              " 'test_mae': array([0.81788617, 0.81557721, 0.81799381, 0.81747592, 0.81721713]),\n",
              " 'test_rmse': array([1.08867179, 1.08628838, 1.08862556, 1.09017085, 1.08867259]),\n",
              " 'test_time': (109.48345279693604,\n",
              "  110.97160458564758,\n",
              "  109.78085422515869,\n",
              "  109.48860359191895,\n",
              "  108.78016543388367)}"
            ]
          },
          "execution_count": 26,
          "metadata": {
            "tags": []
          },
          "output_type": "execute_result"
        }
      ],
      "source": [
        "from surprise import KNNWithZScore\n",
        "from surprise import accuracy\n",
        "from surprise.model_selection import cross_validate\n",
        "\n",
        "\n",
        "#To use item-based cosine similarity\n",
        "sim_options = {\n",
        "  \"name\": \"msd\",\n",
        "  \"min_support\": 5,\n",
        "  \"user_based\": False, #find similarities between items\n",
        "}\n",
        "algo = KNNWithZScore(sim_options=sim_options)\n",
        "cross_validate(algo, data, measures=['RMSE', 'MAE'], cv=5, verbose=True)\n",
        "\n",
        "\n",
        "\n",
        "# predictions = algo.test(testset)\n",
        "\n",
        "# # Then compute RMSE\n",
        "# accuracy.rmse(predictions)\n",
        "# #execution time RMSE: 9m 36s  RMSE: 1.1621\n",
        "\n",
        "# # Then compute MAE\n",
        "# accuracy.mae(predictions)\n",
        "\n",
        "# #TRAIN model\n",
        "# trainingSet = data.build_full_trainset()\n",
        "# algo.fit(trainingSet)\n",
        "\n",
        "# prediction = algo.predict(25, 20787)\n",
        "# prediction.est"
      ]
    },
    {
      "cell_type": "markdown",
      "metadata": {
        "id": "or2rlqxUZW8t"
      },
      "source": [
        "KNNBaseline\n",
        "---------------------------------------------------------------"
      ]
    },
    {
      "cell_type": "code",
      "execution_count": null,
      "metadata": {
        "colab": {
          "base_uri": "https://localhost:8080/"
        },
        "id": "y5J7K0KeZdHr",
        "outputId": "f5ca84b2-e303-4a35-ae0b-380cc29e7373"
      },
      "outputs": [
        {
          "name": "stdout",
          "output_type": "stream",
          "text": [
            "Estimating biases using als...\n",
            "Computing the pearson_baseline similarity matrix...\n",
            "Done computing similarity matrix.\n",
            "Estimating biases using als...\n",
            "Computing the pearson_baseline similarity matrix...\n",
            "Done computing similarity matrix.\n",
            "Estimating biases using als...\n",
            "Computing the pearson_baseline similarity matrix...\n",
            "Done computing similarity matrix.\n",
            "Estimating biases using als...\n",
            "Computing the pearson_baseline similarity matrix...\n",
            "Done computing similarity matrix.\n",
            "Estimating biases using als...\n",
            "Computing the pearson_baseline similarity matrix...\n",
            "Done computing similarity matrix.\n",
            "Evaluating RMSE, MAE of algorithm KNNBaseline on 5 split(s).\n",
            "\n",
            "                  Fold 1  Fold 2  Fold 3  Fold 4  Fold 5  Mean    Std     \n",
            "RMSE (testset)    1.0984  1.0969  1.0966  1.0977  1.0978  1.0975  0.0007  \n",
            "MAE (testset)     0.8199  0.8191  0.8186  0.8191  0.8192  0.8191  0.0004  \n",
            "Fit time          172.82  194.44  186.78  198.86  198.53  190.28  9.76    \n",
            "Test time         441.81  487.32  463.30  494.67  490.04  475.43  20.01   \n"
          ]
        },
        {
          "data": {
            "text/plain": [
              "{'fit_time': (172.81557416915894,\n",
              "  194.44050884246826,\n",
              "  186.77885055541992,\n",
              "  198.8563687801361,\n",
              "  198.5285987854004),\n",
              " 'test_mae': array([0.81989468, 0.8190523 , 0.8185735 , 0.81907582, 0.81915047]),\n",
              " 'test_rmse': array([1.09839923, 1.09686121, 1.09660392, 1.09769777, 1.09781553]),\n",
              " 'test_time': (441.81091356277466,\n",
              "  487.3217308521271,\n",
              "  463.3038823604584,\n",
              "  494.66745948791504,\n",
              "  490.0440456867218)}"
            ]
          },
          "execution_count": 5,
          "metadata": {
            "tags": []
          },
          "output_type": "execute_result"
        }
      ],
      "source": [
        "from surprise import KNNBaseline\n",
        "from surprise import accuracy\n",
        "from surprise.model_selection import cross_validate\n",
        "\n",
        "\n",
        "#To use item-based cosine similarity\n",
        "sim_options = {\n",
        "  \"name\": \"pearson_baseline\",\n",
        "  \"min_support\": 5,\n",
        "  \"user_based\": False, #find similarities between items\n",
        "}\n",
        "algo = KNNBaseline(sim_options=sim_options)\n",
        "\n",
        "cross_validate(algo, data, measures=['RMSE', 'MAE'], cv=5, verbose=True)\n",
        "\n",
        "\n",
        "\n",
        "# predictions = algo.test(testset)\n",
        "\n",
        "# # Then compute RMSE\n",
        "# accuracy.rmse(predictions)\n",
        "# #execution time RMSE: 9m 36s  RMSE: 1.1621\n",
        "\n",
        "# # Then compute MAE\n",
        "# accuracy.mae(predictions)\n",
        "\n",
        "# #TRAIN model\n",
        "# trainingSet = data.build_full_trainset()\n",
        "# algo.fit(trainingSet)\n",
        "\n",
        "# prediction = algo.predict(25, 20787)\n",
        "# prediction.est"
      ]
    },
    {
      "cell_type": "code",
      "execution_count": null,
      "metadata": {
        "colab": {
          "base_uri": "https://localhost:8080/"
        },
        "id": "tyPub8fh1Bp2",
        "outputId": "cbec4a4c-6b5f-4a2b-8d27-60321b9066bd"
      },
      "outputs": [
        {
          "name": "stdout",
          "output_type": "stream",
          "text": [
            "Estimating biases using als...\n",
            "Computing the pearson_baseline similarity matrix...\n",
            "Done computing similarity matrix.\n",
            "Estimating biases using als...\n",
            "Computing the pearson_baseline similarity matrix...\n",
            "Done computing similarity matrix.\n",
            "Estimating biases using als...\n",
            "Computing the pearson_baseline similarity matrix...\n",
            "Done computing similarity matrix.\n",
            "Estimating biases using als...\n",
            "Computing the pearson_baseline similarity matrix...\n",
            "Done computing similarity matrix.\n",
            "Estimating biases using als...\n",
            "Computing the pearson_baseline similarity matrix...\n",
            "Done computing similarity matrix.\n",
            "Evaluating RMSE, MAE of algorithm KNNBaseline on 5 split(s).\n",
            "\n",
            "                  Fold 1  Fold 2  Fold 3  Fold 4  Fold 5  Mean    Std     \n",
            "RMSE (testset)    1.0339  1.0331  1.0330  1.0332  1.0310  1.0328  0.0010  \n",
            "MAE (testset)     0.7751  0.7754  0.7746  0.7745  0.7734  0.7746  0.0007  \n",
            "Fit time          22.93   24.43   24.31   24.36   24.14   24.03   0.56    \n",
            "Test time         116.46  114.88  115.31  116.87  113.72  115.45  1.13    \n"
          ]
        },
        {
          "data": {
            "text/plain": [
              "{'fit_time': (22.930623531341553,\n",
              "  24.42544960975647,\n",
              "  24.307349681854248,\n",
              "  24.362988710403442,\n",
              "  24.13756775856018),\n",
              " 'test_mae': array([0.77512342, 0.77541338, 0.77461677, 0.77445745, 0.77341176]),\n",
              " 'test_rmse': array([1.03388892, 1.03308542, 1.03299629, 1.03315533, 1.03100433]),\n",
              " 'test_time': (116.46276497840881,\n",
              "  114.88251638412476,\n",
              "  115.31481981277466,\n",
              "  116.86981201171875,\n",
              "  113.72049951553345)}"
            ]
          },
          "execution_count": 20,
          "metadata": {
            "tags": []
          },
          "output_type": "execute_result"
        }
      ],
      "source": [
        "from surprise import KNNBaseline\n",
        "from surprise import accuracy\n",
        "from surprise.model_selection import cross_validate\n",
        "\n",
        "\n",
        "#To use item-based cosine similarity\n",
        "sim_options = {\n",
        "  \"name\": \"pearson_baseline\",\n",
        "  \"min_support\": 5,\n",
        "  \"user_based\": False, #find similarities between items\n",
        "}\n",
        "\n",
        "bsl_options = {\n",
        "  'method': 'als',\n",
        "  'n_epochs': 5,\n",
        "  'reg_u': 20,\n",
        "  'reg_i': 15,\n",
        "}\n",
        "algo = KNNBaseline(sim_options=sim_options, bsl_options=bsl_options)\n",
        "\n",
        "cross_validate(algo, data, measures=['RMSE', 'MAE'], cv=5, verbose=True)"
      ]
    },
    {
      "cell_type": "markdown",
      "metadata": {
        "id": "CWf41VGUYe78"
      },
      "source": [
        "SVD Model\n",
        "------------------------------------------------------------------------"
      ]
    },
    {
      "cell_type": "code",
      "execution_count": null,
      "metadata": {
        "colab": {
          "base_uri": "https://localhost:8080/"
        },
        "id": "r84LTW9gUzpH",
        "outputId": "ed8a8068-0437-4dd1-c09d-9f49a6f9b001"
      },
      "outputs": [
        {
          "name": "stdout",
          "output_type": "stream",
          "text": [
            "Evaluating RMSE, MAE of algorithm SVD on 5 split(s).\n",
            "\n",
            "                  Fold 1  Fold 2  Fold 3  Fold 4  Fold 5  Mean    Std     \n",
            "RMSE (testset)    1.1264  1.1266  1.1271  1.1276  1.1253  1.1266  0.0008  \n",
            "MAE (testset)     0.8420  0.8419  0.8425  0.8423  0.8419  0.8421  0.0002  \n",
            "Fit time          316.44  318.06  314.84  313.94  315.13  315.68  1.43    \n",
            "Test time         31.23   27.90   24.22   28.12   23.87   27.07   2.74    \n"
          ]
        },
        {
          "data": {
            "text/plain": [
              "{'fit_time': (316.4447457790375,\n",
              "  318.05599093437195,\n",
              "  314.8350443840027,\n",
              "  313.9383943080902,\n",
              "  315.1267263889313),\n",
              " 'test_mae': array([0.84201333, 0.84190124, 0.84250391, 0.84230886, 0.84191166]),\n",
              " 'test_rmse': array([1.12641691, 1.12658008, 1.1270893 , 1.12762865, 1.1252614 ]),\n",
              " 'test_time': (31.232650995254517,\n",
              "  27.899654626846313,\n",
              "  24.2162606716156,\n",
              "  28.12494730949402,\n",
              "  23.867344617843628)}"
            ]
          },
          "execution_count": 5,
          "metadata": {
            "tags": []
          },
          "output_type": "execute_result"
        }
      ],
      "source": [
        "from surprise import SVD\n",
        "from surprise import Dataset\n",
        "from surprise.model_selection import cross_validate\n",
        "\n",
        "reader = Reader(rating_scale=(1, 10))\n",
        "data = Dataset.load_from_df(df[[\"user\", \"item\", \"rating\"]], reader)\n",
        "algo = SVD()\n",
        "cross_validate(algo, data, measures=['RMSE', 'MAE'], cv=5, verbose=True)\n",
        "\n",
        "# #TRAIN model\n",
        "# trainingSet = data.build_full_trainset()\n",
        "# algo.fit(trainingSet)\n",
        "\n",
        "# prediction = algo.predict(25, 20787)\n",
        "# prediction.est"
      ]
    },
    {
      "cell_type": "code",
      "execution_count": null,
      "metadata": {
        "colab": {
          "base_uri": "https://localhost:8080/",
          "height": 441
        },
        "id": "tSIO6xXFKLaf",
        "outputId": "c3d7a002-6269-407a-b73f-b2117c716f29"
      },
      "outputs": [
        {
          "ename": "KeyboardInterrupt",
          "evalue": "ignored",
          "output_type": "error",
          "traceback": [
            "\u001b[0;31m---------------------------------------------------------------------------\u001b[0m",
            "\u001b[0;31mEmpty\u001b[0m                                     Traceback (most recent call last)",
            "\u001b[0;32m/usr/local/lib/python3.7/dist-packages/joblib/parallel.py\u001b[0m in \u001b[0;36mdispatch_one_batch\u001b[0;34m(self, iterator)\u001b[0m\n\u001b[1;32m    819\u001b[0m             \u001b[0;32mtry\u001b[0m\u001b[0;34m:\u001b[0m\u001b[0;34m\u001b[0m\u001b[0;34m\u001b[0m\u001b[0m\n\u001b[0;32m--> 820\u001b[0;31m                 \u001b[0mtasks\u001b[0m \u001b[0;34m=\u001b[0m \u001b[0mself\u001b[0m\u001b[0;34m.\u001b[0m\u001b[0m_ready_batches\u001b[0m\u001b[0;34m.\u001b[0m\u001b[0mget\u001b[0m\u001b[0;34m(\u001b[0m\u001b[0mblock\u001b[0m\u001b[0;34m=\u001b[0m\u001b[0;32mFalse\u001b[0m\u001b[0;34m)\u001b[0m\u001b[0;34m\u001b[0m\u001b[0;34m\u001b[0m\u001b[0m\n\u001b[0m\u001b[1;32m    821\u001b[0m             \u001b[0;32mexcept\u001b[0m \u001b[0mqueue\u001b[0m\u001b[0;34m.\u001b[0m\u001b[0mEmpty\u001b[0m\u001b[0;34m:\u001b[0m\u001b[0;34m\u001b[0m\u001b[0;34m\u001b[0m\u001b[0m\n",
            "\u001b[0;32m/usr/lib/python3.7/queue.py\u001b[0m in \u001b[0;36mget\u001b[0;34m(self, block, timeout)\u001b[0m\n\u001b[1;32m    166\u001b[0m                 \u001b[0;32mif\u001b[0m \u001b[0;32mnot\u001b[0m \u001b[0mself\u001b[0m\u001b[0;34m.\u001b[0m\u001b[0m_qsize\u001b[0m\u001b[0;34m(\u001b[0m\u001b[0;34m)\u001b[0m\u001b[0;34m:\u001b[0m\u001b[0;34m\u001b[0m\u001b[0;34m\u001b[0m\u001b[0m\n\u001b[0;32m--> 167\u001b[0;31m                     \u001b[0;32mraise\u001b[0m \u001b[0mEmpty\u001b[0m\u001b[0;34m\u001b[0m\u001b[0;34m\u001b[0m\u001b[0m\n\u001b[0m\u001b[1;32m    168\u001b[0m             \u001b[0;32melif\u001b[0m \u001b[0mtimeout\u001b[0m \u001b[0;32mis\u001b[0m \u001b[0;32mNone\u001b[0m\u001b[0;34m:\u001b[0m\u001b[0;34m\u001b[0m\u001b[0;34m\u001b[0m\u001b[0m\n",
            "\u001b[0;31mEmpty\u001b[0m: ",
            "\nDuring handling of the above exception, another exception occurred:\n",
            "\u001b[0;31mKeyboardInterrupt\u001b[0m                         Traceback (most recent call last)",
            "\u001b[0;32m<ipython-input-49-f1057a268730>\u001b[0m in \u001b[0;36m<module>\u001b[0;34m()\u001b[0m\n\u001b[1;32m      5\u001b[0m \u001b[0;31m# trainset, testset = train_test_split(data, test_size=.25)\u001b[0m\u001b[0;34m\u001b[0m\u001b[0;34m\u001b[0m\u001b[0;34m\u001b[0m\u001b[0m\n\u001b[1;32m      6\u001b[0m \u001b[0malgo\u001b[0m \u001b[0;34m=\u001b[0m \u001b[0mSVD\u001b[0m\u001b[0;34m(\u001b[0m\u001b[0;34m)\u001b[0m\u001b[0;34m\u001b[0m\u001b[0;34m\u001b[0m\u001b[0m\n\u001b[0;32m----> 7\u001b[0;31m \u001b[0mcross_validate\u001b[0m\u001b[0;34m(\u001b[0m\u001b[0malgo\u001b[0m\u001b[0;34m,\u001b[0m \u001b[0mdata\u001b[0m\u001b[0;34m,\u001b[0m \u001b[0mmeasures\u001b[0m\u001b[0;34m=\u001b[0m\u001b[0;34m[\u001b[0m\u001b[0;34m'RMSE'\u001b[0m\u001b[0;34m,\u001b[0m \u001b[0;34m'MAE'\u001b[0m\u001b[0;34m]\u001b[0m\u001b[0;34m,\u001b[0m \u001b[0mcv\u001b[0m\u001b[0;34m=\u001b[0m\u001b[0;36m5\u001b[0m\u001b[0;34m,\u001b[0m \u001b[0mverbose\u001b[0m\u001b[0;34m=\u001b[0m\u001b[0;32mTrue\u001b[0m\u001b[0;34m)\u001b[0m\u001b[0;34m\u001b[0m\u001b[0;34m\u001b[0m\u001b[0m\n\u001b[0m\u001b[1;32m      8\u001b[0m \u001b[0;34m\u001b[0m\u001b[0m\n\u001b[1;32m      9\u001b[0m \u001b[0;34m\u001b[0m\u001b[0m\n",
            "\u001b[0;32m/usr/local/lib/python3.7/dist-packages/surprise/model_selection/validation.py\u001b[0m in \u001b[0;36mcross_validate\u001b[0;34m(algo, data, measures, cv, return_train_measures, n_jobs, pre_dispatch, verbose)\u001b[0m\n\u001b[1;32m    101\u001b[0m                                            return_train_measures)\n\u001b[1;32m    102\u001b[0m                     for (trainset, testset) in cv.split(data))\n\u001b[0;32m--> 103\u001b[0;31m     \u001b[0mout\u001b[0m \u001b[0;34m=\u001b[0m \u001b[0mParallel\u001b[0m\u001b[0;34m(\u001b[0m\u001b[0mn_jobs\u001b[0m\u001b[0;34m=\u001b[0m\u001b[0mn_jobs\u001b[0m\u001b[0;34m,\u001b[0m \u001b[0mpre_dispatch\u001b[0m\u001b[0;34m=\u001b[0m\u001b[0mpre_dispatch\u001b[0m\u001b[0;34m)\u001b[0m\u001b[0;34m(\u001b[0m\u001b[0mdelayed_list\u001b[0m\u001b[0;34m)\u001b[0m\u001b[0;34m\u001b[0m\u001b[0;34m\u001b[0m\u001b[0m\n\u001b[0m\u001b[1;32m    104\u001b[0m \u001b[0;34m\u001b[0m\u001b[0m\n\u001b[1;32m    105\u001b[0m     (test_measures_dicts,\n",
            "\u001b[0;32m/usr/local/lib/python3.7/dist-packages/joblib/parallel.py\u001b[0m in \u001b[0;36m__call__\u001b[0;34m(self, iterable)\u001b[0m\n\u001b[1;32m   1039\u001b[0m             \u001b[0;31m# remaining jobs.\u001b[0m\u001b[0;34m\u001b[0m\u001b[0;34m\u001b[0m\u001b[0;34m\u001b[0m\u001b[0m\n\u001b[1;32m   1040\u001b[0m             \u001b[0mself\u001b[0m\u001b[0;34m.\u001b[0m\u001b[0m_iterating\u001b[0m \u001b[0;34m=\u001b[0m \u001b[0;32mFalse\u001b[0m\u001b[0;34m\u001b[0m\u001b[0;34m\u001b[0m\u001b[0m\n\u001b[0;32m-> 1041\u001b[0;31m             \u001b[0;32mif\u001b[0m \u001b[0mself\u001b[0m\u001b[0;34m.\u001b[0m\u001b[0mdispatch_one_batch\u001b[0m\u001b[0;34m(\u001b[0m\u001b[0miterator\u001b[0m\u001b[0;34m)\u001b[0m\u001b[0;34m:\u001b[0m\u001b[0;34m\u001b[0m\u001b[0;34m\u001b[0m\u001b[0m\n\u001b[0m\u001b[1;32m   1042\u001b[0m                 \u001b[0mself\u001b[0m\u001b[0;34m.\u001b[0m\u001b[0m_iterating\u001b[0m \u001b[0;34m=\u001b[0m \u001b[0mself\u001b[0m\u001b[0;34m.\u001b[0m\u001b[0m_original_iterator\u001b[0m \u001b[0;32mis\u001b[0m \u001b[0;32mnot\u001b[0m \u001b[0;32mNone\u001b[0m\u001b[0;34m\u001b[0m\u001b[0;34m\u001b[0m\u001b[0m\n\u001b[1;32m   1043\u001b[0m \u001b[0;34m\u001b[0m\u001b[0m\n",
            "\u001b[0;32m/usr/local/lib/python3.7/dist-packages/joblib/parallel.py\u001b[0m in \u001b[0;36mdispatch_one_batch\u001b[0;34m(self, iterator)\u001b[0m\n\u001b[1;32m    829\u001b[0m                 \u001b[0mbig_batch_size\u001b[0m \u001b[0;34m=\u001b[0m \u001b[0mbatch_size\u001b[0m \u001b[0;34m*\u001b[0m \u001b[0mn_jobs\u001b[0m\u001b[0;34m\u001b[0m\u001b[0;34m\u001b[0m\u001b[0m\n\u001b[1;32m    830\u001b[0m \u001b[0;34m\u001b[0m\u001b[0m\n\u001b[0;32m--> 831\u001b[0;31m                 \u001b[0mislice\u001b[0m \u001b[0;34m=\u001b[0m \u001b[0mlist\u001b[0m\u001b[0;34m(\u001b[0m\u001b[0mitertools\u001b[0m\u001b[0;34m.\u001b[0m\u001b[0mislice\u001b[0m\u001b[0;34m(\u001b[0m\u001b[0miterator\u001b[0m\u001b[0;34m,\u001b[0m \u001b[0mbig_batch_size\u001b[0m\u001b[0;34m)\u001b[0m\u001b[0;34m)\u001b[0m\u001b[0;34m\u001b[0m\u001b[0;34m\u001b[0m\u001b[0m\n\u001b[0m\u001b[1;32m    832\u001b[0m                 \u001b[0;32mif\u001b[0m \u001b[0mlen\u001b[0m\u001b[0;34m(\u001b[0m\u001b[0mislice\u001b[0m\u001b[0;34m)\u001b[0m \u001b[0;34m==\u001b[0m \u001b[0;36m0\u001b[0m\u001b[0;34m:\u001b[0m\u001b[0;34m\u001b[0m\u001b[0;34m\u001b[0m\u001b[0m\n\u001b[1;32m    833\u001b[0m                     \u001b[0;32mreturn\u001b[0m \u001b[0;32mFalse\u001b[0m\u001b[0;34m\u001b[0m\u001b[0;34m\u001b[0m\u001b[0m\n",
            "\u001b[0;32m/usr/local/lib/python3.7/dist-packages/surprise/model_selection/validation.py\u001b[0m in \u001b[0;36m<genexpr>\u001b[0;34m(.0)\u001b[0m\n\u001b[1;32m     98\u001b[0m     \u001b[0mcv\u001b[0m \u001b[0;34m=\u001b[0m \u001b[0mget_cv\u001b[0m\u001b[0;34m(\u001b[0m\u001b[0mcv\u001b[0m\u001b[0;34m)\u001b[0m\u001b[0;34m\u001b[0m\u001b[0;34m\u001b[0m\u001b[0m\n\u001b[1;32m     99\u001b[0m \u001b[0;34m\u001b[0m\u001b[0m\n\u001b[0;32m--> 100\u001b[0;31m     delayed_list = (delayed(fit_and_score)(algo, trainset, testset, measures,\n\u001b[0m\u001b[1;32m    101\u001b[0m                                            return_train_measures)\n\u001b[1;32m    102\u001b[0m                     for (trainset, testset) in cv.split(data))\n",
            "\u001b[0;32m/usr/local/lib/python3.7/dist-packages/surprise/model_selection/split.py\u001b[0m in \u001b[0;36msplit\u001b[0;34m(self, data)\u001b[0m\n\u001b[1;32m    115\u001b[0m             \u001b[0mraw_testset\u001b[0m \u001b[0;34m=\u001b[0m \u001b[0;34m[\u001b[0m\u001b[0mdata\u001b[0m\u001b[0;34m.\u001b[0m\u001b[0mraw_ratings\u001b[0m\u001b[0;34m[\u001b[0m\u001b[0mi\u001b[0m\u001b[0;34m]\u001b[0m \u001b[0;32mfor\u001b[0m \u001b[0mi\u001b[0m \u001b[0;32min\u001b[0m \u001b[0mindices\u001b[0m\u001b[0;34m[\u001b[0m\u001b[0mstart\u001b[0m\u001b[0;34m:\u001b[0m\u001b[0mstop\u001b[0m\u001b[0;34m]\u001b[0m\u001b[0;34m]\u001b[0m\u001b[0;34m\u001b[0m\u001b[0;34m\u001b[0m\u001b[0m\n\u001b[1;32m    116\u001b[0m \u001b[0;34m\u001b[0m\u001b[0m\n\u001b[0;32m--> 117\u001b[0;31m             \u001b[0mtrainset\u001b[0m \u001b[0;34m=\u001b[0m \u001b[0mdata\u001b[0m\u001b[0;34m.\u001b[0m\u001b[0mconstruct_trainset\u001b[0m\u001b[0;34m(\u001b[0m\u001b[0mraw_trainset\u001b[0m\u001b[0;34m)\u001b[0m\u001b[0;34m\u001b[0m\u001b[0;34m\u001b[0m\u001b[0m\n\u001b[0m\u001b[1;32m    118\u001b[0m             \u001b[0mtestset\u001b[0m \u001b[0;34m=\u001b[0m \u001b[0mdata\u001b[0m\u001b[0;34m.\u001b[0m\u001b[0mconstruct_testset\u001b[0m\u001b[0;34m(\u001b[0m\u001b[0mraw_testset\u001b[0m\u001b[0;34m)\u001b[0m\u001b[0;34m\u001b[0m\u001b[0;34m\u001b[0m\u001b[0m\n\u001b[1;32m    119\u001b[0m \u001b[0;34m\u001b[0m\u001b[0m\n",
            "\u001b[0;32m/usr/local/lib/python3.7/dist-packages/surprise/dataset.py\u001b[0m in \u001b[0;36mconstruct_trainset\u001b[0;34m(self, raw_trainset)\u001b[0m\n\u001b[1;32m    187\u001b[0m         \u001b[0;32mfor\u001b[0m \u001b[0murid\u001b[0m\u001b[0;34m,\u001b[0m \u001b[0mirid\u001b[0m\u001b[0;34m,\u001b[0m \u001b[0mr\u001b[0m\u001b[0;34m,\u001b[0m \u001b[0mtimestamp\u001b[0m \u001b[0;32min\u001b[0m \u001b[0mraw_trainset\u001b[0m\u001b[0;34m:\u001b[0m\u001b[0;34m\u001b[0m\u001b[0;34m\u001b[0m\u001b[0m\n\u001b[1;32m    188\u001b[0m             \u001b[0;32mtry\u001b[0m\u001b[0;34m:\u001b[0m\u001b[0;34m\u001b[0m\u001b[0;34m\u001b[0m\u001b[0m\n\u001b[0;32m--> 189\u001b[0;31m                 \u001b[0muid\u001b[0m \u001b[0;34m=\u001b[0m \u001b[0mraw2inner_id_users\u001b[0m\u001b[0;34m[\u001b[0m\u001b[0murid\u001b[0m\u001b[0;34m]\u001b[0m\u001b[0;34m\u001b[0m\u001b[0;34m\u001b[0m\u001b[0m\n\u001b[0m\u001b[1;32m    190\u001b[0m             \u001b[0;32mexcept\u001b[0m \u001b[0mKeyError\u001b[0m\u001b[0;34m:\u001b[0m\u001b[0;34m\u001b[0m\u001b[0;34m\u001b[0m\u001b[0m\n\u001b[1;32m    191\u001b[0m                 \u001b[0muid\u001b[0m \u001b[0;34m=\u001b[0m \u001b[0mcurrent_u_index\u001b[0m\u001b[0;34m\u001b[0m\u001b[0;34m\u001b[0m\u001b[0m\n",
            "\u001b[0;31mKeyboardInterrupt\u001b[0m: "
          ]
        }
      ],
      "source": [
        "from surprise import SVD\n",
        "from surprise import Dataset\n",
        "from surprise.model_selection import cross_validate\n",
        "\n",
        "# trainset, testset = train_test_split(data, test_size=.25)\n",
        "algo = SVD()\n",
        "cross_validate(algo, data, measures=['RMSE', 'MAE'], cv=5, verbose=True)\n",
        "\n",
        "\n",
        "trainset = data.build_full_trainset()\n",
        "algo.fit(trainset)\n",
        "\n",
        "cross_validate(algo, data, measures=['RMSE', 'MAE'], cv=5, verbose=True)\n",
        "\n",
        "# algo.fit(trainset)\n",
        "# predictions = algo.test(testset)\n",
        "\n",
        "# # Then compute RMSE\n",
        "# accuracy.rmse(predictions)\n",
        "# # Execution time: 5m 57s, RMSE: 1.1349\n",
        "\n",
        "# # Then compute MAE\n",
        "# accuracy.mae(predictions)\n",
        "# # Execution time: 5m 53s, RMSE: 0.8478\n",
        "\n",
        "# #TRAIN model\n",
        "# trainingSet = data.build_full_trainset()\n",
        "# algo.fit(trainingSet)\n",
        "\n",
        "# prediction = algo.predict(25, 20787)\n",
        "# prediction.est"
      ]
    },
    {
      "cell_type": "code",
      "execution_count": null,
      "metadata": {
        "colab": {
          "base_uri": "https://localhost:8080/"
        },
        "id": "cITswN91oC26",
        "outputId": "52cbce6e-532f-416b-c51b-55137871d7c9"
      },
      "outputs": [
        {
          "name": "stdout",
          "output_type": "stream",
          "text": [
            "Evaluating RMSE, MAE of algorithm SVD on 5 split(s).\n",
            "\n",
            "                  Fold 1  Fold 2  Fold 3  Fold 4  Fold 5  Mean    Std     \n",
            "RMSE (testset)    1.0475  1.0518  1.0501  1.0496  1.0507  1.0499  0.0014  \n",
            "MAE (testset)     0.7853  0.7887  0.7872  0.7870  0.7873  0.7871  0.0011  \n",
            "Fit time          75.07   75.78   76.11   76.05   76.53   75.91   0.48    \n",
            "Test time         5.56    4.99    5.17    5.75    5.10    5.31    0.29    \n"
          ]
        },
        {
          "data": {
            "text/plain": [
              "{'fit_time': (75.07451796531677,\n",
              "  75.7825071811676,\n",
              "  76.11298680305481,\n",
              "  76.04747891426086,\n",
              "  76.52914094924927),\n",
              " 'test_mae': array([0.78531359, 0.78866118, 0.78719797, 0.78698643, 0.78725707]),\n",
              " 'test_rmse': array([1.04746462, 1.05175267, 1.05009363, 1.04964395, 1.05070208]),\n",
              " 'test_time': (5.556574583053589,\n",
              "  4.987641334533691,\n",
              "  5.1677470207214355,\n",
              "  5.748677968978882,\n",
              "  5.095146417617798)}"
            ]
          },
          "execution_count": 26,
          "metadata": {
            "tags": []
          },
          "output_type": "execute_result"
        }
      ],
      "source": [
        "algo.fit(trainset)\n",
        "\n",
        "cross_validate(algo, data, measures=['RMSE', 'MAE'], cv=5, verbose=True)"
      ]
    },
    {
      "cell_type": "markdown",
      "metadata": {
        "id": "PZEeOUSqSkp3"
      },
      "source": [
        "NMF model\n",
        "----------------------------------------"
      ]
    },
    {
      "cell_type": "code",
      "execution_count": null,
      "metadata": {
        "colab": {
          "base_uri": "https://localhost:8080/"
        },
        "id": "qazn6MisSjtI",
        "outputId": "89e3a460-6edc-4c28-a96b-f375c5d6e648"
      },
      "outputs": [
        {
          "name": "stdout",
          "output_type": "stream",
          "text": [
            "Evaluating RMSE, MAE of algorithm NMF on 5 split(s).\n",
            "\n",
            "                  Fold 1  Fold 2  Fold 3  Fold 4  Fold 5  Mean    Std     \n",
            "RMSE (testset)    2.2172  2.1793  2.1939  2.1924  2.2031  2.1972  0.0126  \n",
            "MAE (testset)     1.9824  1.9436  1.9591  1.9571  1.9679  1.9620  0.0128  \n",
            "Fit time          87.94   92.40   90.58   91.70   90.85   90.69   1.52    \n",
            "Test time         5.01    4.93    4.92    4.52    4.29    4.74    0.28    \n"
          ]
        },
        {
          "data": {
            "text/plain": [
              "{'fit_time': (87.94349908828735,\n",
              "  92.39586281776428,\n",
              "  90.5827853679657,\n",
              "  91.69657635688782,\n",
              "  90.84804177284241),\n",
              " 'test_mae': array([1.98237226, 1.94364399, 1.95909673, 1.95706721, 1.96786583]),\n",
              " 'test_rmse': array([2.21715437, 2.17926753, 2.19389188, 2.19236082, 2.20312425]),\n",
              " 'test_time': (5.010337829589844,\n",
              "  4.932870864868164,\n",
              "  4.917050123214722,\n",
              "  4.522629976272583,\n",
              "  4.293063640594482)}"
            ]
          },
          "execution_count": 6,
          "metadata": {
            "tags": []
          },
          "output_type": "execute_result"
        }
      ],
      "source": [
        "from surprise import NMF\n",
        "from surprise import Dataset\n",
        "from surprise.model_selection import cross_validate\n",
        "\n",
        "reader = Reader(rating_scale=(1, 10))\n",
        "data = Dataset.load_from_df(df[[\"user\", \"item\", \"rating\"]], reader)\n",
        "algo = NMF()\n",
        "cross_validate(algo, data, measures=['RMSE', 'MAE'], cv=5, verbose=True)\n",
        "\n",
        "# #TRAIN model\n",
        "# trainingSet = data.build_full_trainset()\n",
        "# algo.fit(trainingSet)\n",
        "\n",
        "# prediction = algo.predict(25, 20787)\n",
        "# prediction.est"
      ]
    },
    {
      "cell_type": "markdown",
      "metadata": {
        "id": "U_BP5Jh2Davn"
      },
      "source": [
        "Slope One algorithm\n",
        "------------------------------------------------------------"
      ]
    },
    {
      "cell_type": "code",
      "execution_count": null,
      "metadata": {
        "colab": {
          "base_uri": "https://localhost:8080/"
        },
        "id": "STwJi6zQ5evu",
        "outputId": "4e178263-e12d-45e0-da78-b3a139083f4e"
      },
      "outputs": [
        {
          "name": "stdout",
          "output_type": "stream",
          "text": [
            "Evaluating RMSE, MAE of algorithm SlopeOne on 5 split(s).\n",
            "\n",
            "                  Fold 1  Fold 2  Fold 3  Fold 4  Fold 5  Mean    Std     \n",
            "RMSE (testset)    1.1324  1.1401  1.1367  1.1351  1.1345  1.1357  0.0026  \n",
            "MAE (testset)     0.8584  0.8626  0.8609  0.8584  0.8589  0.8598  0.0016  \n",
            "Fit time          14.50   15.76   15.38   15.45   15.53   15.32   0.43    \n",
            "Test time         81.14   80.99   80.66   81.32   81.44   81.11   0.27    \n"
          ]
        },
        {
          "data": {
            "text/plain": [
              "{'fit_time': (14.500823736190796,\n",
              "  15.759157419204712,\n",
              "  15.381051301956177,\n",
              "  15.44687533378601,\n",
              "  15.533745527267456),\n",
              " 'test_mae': array([0.85840591, 0.86258954, 0.86085975, 0.85844525, 0.85890557]),\n",
              " 'test_rmse': array([1.1323597 , 1.14010771, 1.13671506, 1.13507361, 1.13445594]),\n",
              " 'test_time': (81.14400100708008,\n",
              "  80.99327731132507,\n",
              "  80.66094851493835,\n",
              "  81.31528329849243,\n",
              "  81.44366455078125)}"
            ]
          },
          "execution_count": 27,
          "metadata": {
            "tags": []
          },
          "output_type": "execute_result"
        }
      ],
      "source": [
        "from surprise import SlopeOne\n",
        "from surprise import accuracy\n",
        "from surprise.model_selection import train_test_split\n",
        "from surprise.model_selection import cross_validate\n",
        "\n",
        "\n",
        "# trainset, testset = train_test_split(data, test_size=.25)\n",
        "algo = SlopeOne()\n",
        "\n",
        "algo.fit(trainset)\n",
        "cross_validate(algo, data, measures=['RMSE', 'MAE'], cv=5, verbose=True)\n",
        "# predictions = algo.test(testset)\n",
        "\n",
        "# # Then compute RMSE\n",
        "# accuracy.rmse(predictions)\n",
        "# #RMSE: 1.1924  Execution time: 9m 34s\n",
        "\n",
        "# # Then compute MAE\n",
        "# accuracy.mae(predictions)\n",
        "# # Execution time: 9m 8s, MAE: 0.9027\n",
        "\n",
        "\n",
        "# #TRAIN model\n",
        "# trainingSet = data.build_full_trainset()\n",
        "# algo.fit(trainingSet)\n",
        "# prediction = algo.predict(25, 20787)\n",
        "# prediction.est"
      ]
    },
    {
      "cell_type": "code",
      "execution_count": null,
      "metadata": {
        "colab": {
          "base_uri": "https://localhost:8080/"
        },
        "id": "T7ZWD3N5VyAd",
        "outputId": "4d16fa52-400c-4e00-92ce-ea4714b6034f"
      },
      "outputs": [
        {
          "name": "stdout",
          "output_type": "stream",
          "text": [
            "RMSE: 1.1947\n"
          ]
        },
        {
          "data": {
            "text/plain": [
              "1.194735703810057"
            ]
          },
          "execution_count": 21,
          "metadata": {
            "tags": []
          },
          "output_type": "execute_result"
        }
      ],
      "source": [
        "predictions = algo.test(testset)\n",
        "\n",
        "# Then compute RMSE\n",
        "accuracy.rmse(predictions)\n",
        "#RMSE: 1.1924  Execution time: 9m 34s"
      ]
    },
    {
      "cell_type": "markdown",
      "metadata": {
        "id": "JZoGsKlJDz9q"
      },
      "source": [
        "CoClustering algorithm\n",
        "-----------------------------------------------------------------"
      ]
    },
    {
      "cell_type": "code",
      "execution_count": null,
      "metadata": {
        "colab": {
          "base_uri": "https://localhost:8080/",
          "height": 353
        },
        "id": "DqUd5L7eDdqR",
        "outputId": "a7aab538-b7f0-46c8-dd3a-4967576c92ee"
      },
      "outputs": [
        {
          "ename": "ModuleNotFoundError",
          "evalue": "ignored",
          "output_type": "error",
          "traceback": [
            "\u001b[0;31m---------------------------------------------------------------------------\u001b[0m",
            "\u001b[0;31mModuleNotFoundError\u001b[0m                       Traceback (most recent call last)",
            "\u001b[0;32m<ipython-input-1-e5f37db9fa17>\u001b[0m in \u001b[0;36m<module>\u001b[0;34m()\u001b[0m\n\u001b[0;32m----> 1\u001b[0;31m \u001b[0;32mfrom\u001b[0m \u001b[0msurprise\u001b[0m \u001b[0;32mimport\u001b[0m \u001b[0mCoClustering\u001b[0m\u001b[0;34m\u001b[0m\u001b[0;34m\u001b[0m\u001b[0m\n\u001b[0m\u001b[1;32m      2\u001b[0m \u001b[0;32mfrom\u001b[0m \u001b[0msurprise\u001b[0m \u001b[0;32mimport\u001b[0m \u001b[0maccuracy\u001b[0m\u001b[0;34m\u001b[0m\u001b[0;34m\u001b[0m\u001b[0m\n\u001b[1;32m      3\u001b[0m \u001b[0;32mfrom\u001b[0m \u001b[0msurprise\u001b[0m\u001b[0;34m.\u001b[0m\u001b[0mmodel_selection\u001b[0m \u001b[0;32mimport\u001b[0m \u001b[0mtrain_test_split\u001b[0m\u001b[0;34m\u001b[0m\u001b[0;34m\u001b[0m\u001b[0m\n\u001b[1;32m      4\u001b[0m \u001b[0;32mfrom\u001b[0m \u001b[0msurprise\u001b[0m\u001b[0;34m.\u001b[0m\u001b[0mmodel_selection\u001b[0m \u001b[0;32mimport\u001b[0m \u001b[0mcross_validate\u001b[0m\u001b[0;34m\u001b[0m\u001b[0;34m\u001b[0m\u001b[0m\n\u001b[1;32m      5\u001b[0m \u001b[0;34m\u001b[0m\u001b[0m\n",
            "\u001b[0;31mModuleNotFoundError\u001b[0m: No module named 'surprise'",
            "",
            "\u001b[0;31m---------------------------------------------------------------------------\u001b[0;32m\nNOTE: If your import is failing due to a missing package, you can\nmanually install dependencies using either !pip or !apt.\n\nTo view examples of installing some common dependencies, click the\n\"Open Examples\" button below.\n\u001b[0;31m---------------------------------------------------------------------------\u001b[0m\n"
          ]
        }
      ],
      "source": [
        "from surprise import CoClustering\n",
        "from surprise import accuracy\n",
        "from surprise.model_selection import train_test_split\n",
        "from surprise.model_selection import cross_validate\n",
        "\n",
        "\n",
        "trainset, testset = train_test_split(data, test_size=.25)\n",
        "algo = CoClustering()\n",
        "\n",
        "algo.fit(trainset)\n",
        "cross_validate(algo, data, measures=['RMSE', 'MAE'], cv=5, verbose=True)\n",
        "\n",
        "# predictions = algo.test(testset)\n",
        "\n",
        "# # Then compute RMSE\n",
        "# accuracy.rmse(predictions)\n",
        "# #Execution time: 4m 59s, RMSE: 1.2033\n",
        "\n",
        "# # Then compute MAE\n",
        "# accuracy.mae(predictions)\n",
        "# #Execution time: 5m 1s, MAE: 0.9120\n",
        "\n",
        "# #TRAIN model\n",
        "# trainingSet = data.build_full_trainset()\n",
        "# algo.fit(trainingSet)\n",
        "# prediction = algo.predict(25, 20787)\n",
        "# prediction.est"
      ]
    },
    {
      "cell_type": "markdown",
      "metadata": {
        "id": "5QQW6Myqh6q2"
      },
      "source": [
        "build something like that, lots of options to find the similarities.\n",
        "K-nearest model\n",
        "try different model, see the results, compare, find the best one"
      ]
    },
    {
      "cell_type": "markdown",
      "metadata": {
        "id": "5pCfR1eniPNC"
      },
      "source": [
        "K-nearest algorithm to answer the second research questions\n",
        "\n",
        "\n",
        "\n"
      ]
    },
    {
      "cell_type": "code",
      "execution_count": null,
      "metadata": {
        "colab": {
          "base_uri": "https://localhost:8080/"
        },
        "id": "X47KdybAiWwn",
        "outputId": "61d8078c-eb5e-445b-bc43-1051489b68fb"
      },
      "outputs": [
        {
          "name": "stdout",
          "output_type": "stream",
          "text": [
            "Computing the msd similarity matrix...\n",
            "Done computing similarity matrix.\n",
            "Computing the msd similarity matrix...\n",
            "Done computing similarity matrix.\n",
            "Computing the msd similarity matrix...\n",
            "Done computing similarity matrix.\n",
            "Computing the msd similarity matrix...\n",
            "Done computing similarity matrix.\n",
            "Computing the msd similarity matrix...\n",
            "Done computing similarity matrix.\n",
            "Computing the msd similarity matrix...\n",
            "Done computing similarity matrix.\n",
            "Computing the msd similarity matrix...\n",
            "Done computing similarity matrix.\n",
            "Computing the msd similarity matrix...\n",
            "Done computing similarity matrix.\n",
            "Computing the msd similarity matrix...\n",
            "Done computing similarity matrix.\n",
            "Computing the msd similarity matrix...\n",
            "Done computing similarity matrix.\n",
            "Computing the msd similarity matrix...\n",
            "Done computing similarity matrix.\n",
            "Computing the msd similarity matrix...\n",
            "Done computing similarity matrix.\n",
            "Computing the msd similarity matrix...\n",
            "Done computing similarity matrix.\n",
            "Computing the msd similarity matrix...\n",
            "Done computing similarity matrix.\n",
            "Computing the msd similarity matrix...\n",
            "Done computing similarity matrix.\n",
            "Computing the msd similarity matrix...\n",
            "Done computing similarity matrix.\n",
            "Computing the msd similarity matrix...\n",
            "Done computing similarity matrix.\n",
            "Computing the msd similarity matrix...\n",
            "Done computing similarity matrix.\n",
            "Computing the cosine similarity matrix...\n",
            "Done computing similarity matrix.\n",
            "Computing the cosine similarity matrix...\n",
            "Done computing similarity matrix.\n",
            "Computing the cosine similarity matrix...\n",
            "Done computing similarity matrix.\n",
            "Computing the cosine similarity matrix...\n",
            "Done computing similarity matrix.\n",
            "Computing the cosine similarity matrix...\n",
            "Done computing similarity matrix.\n",
            "Computing the cosine similarity matrix...\n",
            "Done computing similarity matrix.\n",
            "Computing the cosine similarity matrix...\n",
            "Done computing similarity matrix.\n",
            "Computing the cosine similarity matrix...\n",
            "Done computing similarity matrix.\n",
            "Computing the cosine similarity matrix...\n",
            "Done computing similarity matrix.\n",
            "Computing the cosine similarity matrix...\n",
            "Done computing similarity matrix.\n",
            "Computing the cosine similarity matrix...\n",
            "Done computing similarity matrix.\n",
            "Computing the cosine similarity matrix...\n",
            "Done computing similarity matrix.\n",
            "Computing the cosine similarity matrix...\n",
            "Done computing similarity matrix.\n",
            "Computing the cosine similarity matrix...\n",
            "Done computing similarity matrix.\n",
            "Computing the cosine similarity matrix...\n",
            "Done computing similarity matrix.\n",
            "Computing the cosine similarity matrix...\n",
            "Done computing similarity matrix.\n",
            "Computing the cosine similarity matrix...\n",
            "Done computing similarity matrix.\n",
            "Computing the cosine similarity matrix...\n",
            "Done computing similarity matrix.\n",
            "1.2262770967968872\n",
            "{'sim_options': {'name': 'msd', 'min_support': 5, 'user-based': False, 'user_based': True}}\n"
          ]
        }
      ],
      "source": [
        "from surprise import KNNWithMeans\n",
        "from surprise import Dataset\n",
        "from surprise.model_selection import GridSearchCV  #test the accuracy\n",
        "\n",
        "reader = Reader(rating_scale=(1, 10))\n",
        "# data = Dataset.load_from_file('rating.csv', reader)\n",
        "data = Dataset.load_from_df(df[[\"user\", \"item\", \"rating\"]], reader)\n",
        "\n",
        "\n",
        "sim_options = {\n",
        "    \"name\": [\"msd\", \"cosine\"],\n",
        "    \"min_support\": [3, 4, 5],\n",
        "    \"user-based\": [False, True],\n",
        "}\n",
        "\n",
        "param_grid = {\"sim_options\": sim_options}\n",
        "\n",
        "gs = GridSearchCV(KNNWithMeans, param_grid, measures=[\"rmse\", \"mae\"], cv=3)\n",
        "\n",
        "\n",
        "gs.fit(data)\n",
        "\n",
        "print(gs.best_score[\"rmse\"])\n",
        "print(gs.best_params[\"rmse\"])"
      ]
    }
  ],
  "metadata": {
    "accelerator": "TPU",
    "colab": {
      "provenance": [],
      "mount_file_id": "15WF1IujXG85yF_s1wmVMG3wGAjDNuLiL",
      "authorship_tag": "ABX9TyOHh0Ym/0+s2F/pcAob9PQW"
    },
    "kernelspec": {
      "display_name": "Python 3",
      "name": "python3"
    },
    "language_info": {
      "name": "python"
    }
  },
  "nbformat": 4,
  "nbformat_minor": 0
}